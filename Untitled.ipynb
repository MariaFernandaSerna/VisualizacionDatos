{
 "cells": [
  {
   "cell_type": "markdown",
   "id": "0023d7f0-e6c2-412e-8d1a-cc9ae5af7977",
   "metadata": {},
   "source": [
    "# A7: visualización de datos multivariantes"
   ]
  },
  {
   "cell_type": "code",
   "execution_count": 1,
   "id": "bf3fdeca-bd3e-4ed5-906f-811e7c4b919f",
   "metadata": {},
   "outputs": [
    {
     "name": "stdout",
     "output_type": "stream",
     "text": [
      " adult.csv                   Cartwheeldata.csv   movies.csv\n",
      " airline_data.csv            census.csv          nhanes_2015_2016.csv\n",
      " antropometria00.csv         coches.csv          pokemon.csv\n",
      " antropometria-dataset.csv   cwurData.csv        sample_pivot.csv\n",
      "'base de datos 2.csv'        data.csv            tips.csv\n",
      "'base de datos.xlsx'         headbrain.csv       weight-height.csv\n",
      " Book3.csv                   mic2.xlsx\n",
      " Canada.xlsx                 mic.xlsx\n"
     ]
    }
   ],
   "source": [
    "%ls datasets/"
   ]
  },
  {
   "cell_type": "code",
   "execution_count": 2,
   "id": "513ad832-a55a-42db-8b0b-93c987af03bd",
   "metadata": {},
   "outputs": [],
   "source": [
    "import pandas as pd \n",
    "import numpy as np "
   ]
  },
  {
   "cell_type": "code",
   "execution_count": null,
   "id": "d49c7922-159f-4d96-b790-3c8b30292e5d",
   "metadata": {},
   "outputs": [],
   "source": [
    "pip install plotly openpyxl xlrd"
   ]
  },
  {
   "cell_type": "code",
   "execution_count": null,
   "id": "bf883698-b63a-46e5-87d9-712880cfbccf",
   "metadata": {},
   "outputs": [],
   "source": [
    "pi"
   ]
  }
 ],
 "metadata": {
  "kernelspec": {
   "display_name": "Python 3 (ipykernel)",
   "language": "python",
   "name": "python3"
  },
  "language_info": {
   "codemirror_mode": {
    "name": "ipython",
    "version": 3
   },
   "file_extension": ".py",
   "mimetype": "text/x-python",
   "name": "python",
   "nbconvert_exporter": "python",
   "pygments_lexer": "ipython3",
   "version": "3.7.12"
  }
 },
 "nbformat": 4,
 "nbformat_minor": 5
}
