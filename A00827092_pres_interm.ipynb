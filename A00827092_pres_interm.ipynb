{
 "cells": [
  {
   "cell_type": "markdown",
   "id": "fe799c83-37c2-470d-8850-797c02842e10",
   "metadata": {},
   "source": [
    "# Kilotoneladas de gases de efecto invernadero por pais"
   ]
  },
  {
   "cell_type": "markdown",
   "id": "1667a60f-7763-455e-abae-6ca90857f347",
   "metadata": {},
   "source": [
    "A00827092 Maria Fernanda Serna"
   ]
  },
  {
   "cell_type": "markdown",
   "id": "343fd02a-9026-48de-a60d-6fb1db04592d",
   "metadata": {
    "tags": []
   },
   "source": [
    "### Carga de Archivo"
   ]
  },
  {
   "cell_type": "code",
   "execution_count": 1,
   "id": "3506cfe0-9fcb-4d22-873b-24066bad497e",
   "metadata": {},
   "outputs": [
    {
     "name": "stdout",
     "output_type": "stream",
     "text": [
      "Collecting xlrd\n",
      "  Downloading xlrd-2.0.1-py2.py3-none-any.whl (96 kB)\n",
      "\u001b[K     |████████████████████████████████| 96 kB 3.0 MB/s eta 0:00:011\n",
      "\u001b[?25hInstalling collected packages: xlrd\n",
      "Successfully installed xlrd-2.0.1\n",
      "Note: you may need to restart the kernel to use updated packages.\n"
     ]
    }
   ],
   "source": [
    "pip install xlrd"
   ]
  },
  {
   "cell_type": "code",
   "execution_count": 2,
   "id": "03e2ffea-5f61-416d-b913-bf34444a8876",
   "metadata": {},
   "outputs": [
    {
     "name": "stdout",
     "output_type": "stream",
     "text": [
      "Collecting openpyxl\n",
      "  Downloading openpyxl-3.0.9-py2.py3-none-any.whl (242 kB)\n",
      "\u001b[K     |████████████████████████████████| 242 kB 4.8 MB/s eta 0:00:01\n",
      "\u001b[?25hCollecting et-xmlfile\n",
      "  Downloading et_xmlfile-1.1.0-py3-none-any.whl (4.7 kB)\n",
      "Installing collected packages: et-xmlfile, openpyxl\n",
      "Successfully installed et-xmlfile-1.1.0 openpyxl-3.0.9\n",
      "Note: you may need to restart the kernel to use updated packages.\n"
     ]
    }
   ],
   "source": [
    "pip install openpyxl"
   ]
  },
  {
   "cell_type": "code",
   "execution_count": 3,
   "id": "0b72cee7-0274-450c-9b0f-f8791c9c7b55",
   "metadata": {},
   "outputs": [
    {
     "name": "stdout",
     "output_type": "stream",
     "text": [
      "Collecting seaborn\n",
      "  Downloading seaborn-0.11.2-py3-none-any.whl (292 kB)\n",
      "\u001b[K     |████████████████████████████████| 292 kB 4.9 MB/s eta 0:00:01\n",
      "\u001b[?25hRequirement already satisfied: scipy>=1.0 in /srv/conda/envs/notebook/lib/python3.7/site-packages (from seaborn) (1.4.1)\n",
      "Requirement already satisfied: pandas>=0.23 in /srv/conda/envs/notebook/lib/python3.7/site-packages (from seaborn) (1.0.4)\n",
      "Requirement already satisfied: matplotlib>=2.2 in /srv/conda/envs/notebook/lib/python3.7/site-packages (from seaborn) (3.2.1)\n",
      "Requirement already satisfied: numpy>=1.15 in /srv/conda/envs/notebook/lib/python3.7/site-packages (from seaborn) (1.18.5)\n",
      "Requirement already satisfied: kiwisolver>=1.0.1 in /srv/conda/envs/notebook/lib/python3.7/site-packages (from matplotlib>=2.2->seaborn) (1.2.0)\n",
      "Requirement already satisfied: pyparsing!=2.0.4,!=2.1.2,!=2.1.6,>=2.0.1 in /srv/conda/envs/notebook/lib/python3.7/site-packages (from matplotlib>=2.2->seaborn) (2.4.7)\n",
      "Requirement already satisfied: cycler>=0.10 in /srv/conda/envs/notebook/lib/python3.7/site-packages (from matplotlib>=2.2->seaborn) (0.10.0)\n",
      "Requirement already satisfied: python-dateutil>=2.1 in /srv/conda/envs/notebook/lib/python3.7/site-packages (from matplotlib>=2.2->seaborn) (2.8.1)\n",
      "Requirement already satisfied: six in /srv/conda/envs/notebook/lib/python3.7/site-packages (from cycler>=0.10->matplotlib>=2.2->seaborn) (1.16.0)\n",
      "Requirement already satisfied: pytz>=2017.2 in /srv/conda/envs/notebook/lib/python3.7/site-packages (from pandas>=0.23->seaborn) (2020.1)\n",
      "Installing collected packages: seaborn\n",
      "Successfully installed seaborn-0.11.2\n",
      "Note: you may need to restart the kernel to use updated packages.\n"
     ]
    }
   ],
   "source": [
    "pip install seaborn"
   ]
  },
  {
   "cell_type": "code",
   "execution_count": 4,
   "id": "593f3227-01ae-4087-9097-4dbf53ef357a",
   "metadata": {},
   "outputs": [],
   "source": [
    "import pandas as pd\n",
    "import matplotlib.pyplot as plt\n",
    "import seaborn as sns"
   ]
  },
  {
   "cell_type": "code",
   "execution_count": 5,
   "id": "94ae13b3-586e-45af-be2c-dbe9816ff473",
   "metadata": {},
   "outputs": [
    {
     "data": {
      "text/html": [
       "<div>\n",
       "<style scoped>\n",
       "    .dataframe tbody tr th:only-of-type {\n",
       "        vertical-align: middle;\n",
       "    }\n",
       "\n",
       "    .dataframe tbody tr th {\n",
       "        vertical-align: top;\n",
       "    }\n",
       "\n",
       "    .dataframe thead th {\n",
       "        text-align: right;\n",
       "    }\n",
       "</style>\n",
       "<table border=\"1\" class=\"dataframe\">\n",
       "  <thead>\n",
       "    <tr style=\"text-align: right;\">\n",
       "      <th></th>\n",
       "      <th>Country Name</th>\n",
       "      <th>Country Code</th>\n",
       "      <th>Region</th>\n",
       "      <th>IncomeGroup</th>\n",
       "      <th>Indicator Name</th>\n",
       "      <th>Indicator Code</th>\n",
       "      <th>1960</th>\n",
       "      <th>1961</th>\n",
       "      <th>1962</th>\n",
       "      <th>1963</th>\n",
       "      <th>...</th>\n",
       "      <th>2011</th>\n",
       "      <th>2012</th>\n",
       "      <th>2013</th>\n",
       "      <th>2014</th>\n",
       "      <th>2015</th>\n",
       "      <th>2016</th>\n",
       "      <th>2017</th>\n",
       "      <th>2018</th>\n",
       "      <th>2019</th>\n",
       "      <th>2020</th>\n",
       "    </tr>\n",
       "  </thead>\n",
       "  <tbody>\n",
       "    <tr>\n",
       "      <th>0</th>\n",
       "      <td>Afghanistan</td>\n",
       "      <td>AFG</td>\n",
       "      <td>South Asia</td>\n",
       "      <td>Low income</td>\n",
       "      <td>Total greenhouse gas emissions (kt of CO2 equi...</td>\n",
       "      <td>EN.ATM.GHGT.KT.CE</td>\n",
       "      <td>NaN</td>\n",
       "      <td>NaN</td>\n",
       "      <td>NaN</td>\n",
       "      <td>NaN</td>\n",
       "      <td>...</td>\n",
       "      <td>58650</td>\n",
       "      <td>66750</td>\n",
       "      <td>74800</td>\n",
       "      <td>84620</td>\n",
       "      <td>93730</td>\n",
       "      <td>95370</td>\n",
       "      <td>97300</td>\n",
       "      <td>98920</td>\n",
       "      <td>NaN</td>\n",
       "      <td>NaN</td>\n",
       "    </tr>\n",
       "    <tr>\n",
       "      <th>1</th>\n",
       "      <td>Angola</td>\n",
       "      <td>AGO</td>\n",
       "      <td>Sub-Saharan Africa</td>\n",
       "      <td>Lower middle income</td>\n",
       "      <td>Total greenhouse gas emissions (kt of CO2 equi...</td>\n",
       "      <td>EN.ATM.GHGT.KT.CE</td>\n",
       "      <td>NaN</td>\n",
       "      <td>NaN</td>\n",
       "      <td>NaN</td>\n",
       "      <td>NaN</td>\n",
       "      <td>...</td>\n",
       "      <td>86040</td>\n",
       "      <td>84930</td>\n",
       "      <td>88410</td>\n",
       "      <td>88980</td>\n",
       "      <td>90620</td>\n",
       "      <td>91240</td>\n",
       "      <td>87180</td>\n",
       "      <td>79730</td>\n",
       "      <td>NaN</td>\n",
       "      <td>NaN</td>\n",
       "    </tr>\n",
       "    <tr>\n",
       "      <th>2</th>\n",
       "      <td>Albania</td>\n",
       "      <td>ALB</td>\n",
       "      <td>Europe &amp; Central Asia</td>\n",
       "      <td>Upper middle income</td>\n",
       "      <td>Total greenhouse gas emissions (kt of CO2 equi...</td>\n",
       "      <td>EN.ATM.GHGT.KT.CE</td>\n",
       "      <td>NaN</td>\n",
       "      <td>NaN</td>\n",
       "      <td>NaN</td>\n",
       "      <td>NaN</td>\n",
       "      <td>...</td>\n",
       "      <td>9630</td>\n",
       "      <td>9240</td>\n",
       "      <td>9440</td>\n",
       "      <td>9930</td>\n",
       "      <td>9850</td>\n",
       "      <td>9720</td>\n",
       "      <td>10290</td>\n",
       "      <td>10080</td>\n",
       "      <td>NaN</td>\n",
       "      <td>NaN</td>\n",
       "    </tr>\n",
       "    <tr>\n",
       "      <th>3</th>\n",
       "      <td>United Arab Emirates</td>\n",
       "      <td>ARE</td>\n",
       "      <td>Middle East &amp; North Africa</td>\n",
       "      <td>High income</td>\n",
       "      <td>Total greenhouse gas emissions (kt of CO2 equi...</td>\n",
       "      <td>EN.ATM.GHGT.KT.CE</td>\n",
       "      <td>NaN</td>\n",
       "      <td>NaN</td>\n",
       "      <td>NaN</td>\n",
       "      <td>NaN</td>\n",
       "      <td>...</td>\n",
       "      <td>214630</td>\n",
       "      <td>226570</td>\n",
       "      <td>237630</td>\n",
       "      <td>240020</td>\n",
       "      <td>252850</td>\n",
       "      <td>259650</td>\n",
       "      <td>269820</td>\n",
       "      <td>263240</td>\n",
       "      <td>NaN</td>\n",
       "      <td>NaN</td>\n",
       "    </tr>\n",
       "    <tr>\n",
       "      <th>4</th>\n",
       "      <td>Argentina</td>\n",
       "      <td>ARG</td>\n",
       "      <td>Latin America &amp; Caribbean</td>\n",
       "      <td>Upper middle income</td>\n",
       "      <td>Total greenhouse gas emissions (kt of CO2 equi...</td>\n",
       "      <td>EN.ATM.GHGT.KT.CE</td>\n",
       "      <td>NaN</td>\n",
       "      <td>NaN</td>\n",
       "      <td>NaN</td>\n",
       "      <td>NaN</td>\n",
       "      <td>...</td>\n",
       "      <td>344800</td>\n",
       "      <td>348940</td>\n",
       "      <td>358180</td>\n",
       "      <td>356100</td>\n",
       "      <td>362560</td>\n",
       "      <td>366370</td>\n",
       "      <td>367320</td>\n",
       "      <td>365650</td>\n",
       "      <td>NaN</td>\n",
       "      <td>NaN</td>\n",
       "    </tr>\n",
       "  </tbody>\n",
       "</table>\n",
       "<p>5 rows × 67 columns</p>\n",
       "</div>"
      ],
      "text/plain": [
       "           Country Name Country Code                      Region  \\\n",
       "0           Afghanistan          AFG                  South Asia   \n",
       "1                Angola          AGO          Sub-Saharan Africa   \n",
       "2               Albania          ALB       Europe & Central Asia   \n",
       "3  United Arab Emirates          ARE  Middle East & North Africa   \n",
       "4             Argentina          ARG   Latin America & Caribbean   \n",
       "\n",
       "           IncomeGroup                                     Indicator Name  \\\n",
       "0           Low income  Total greenhouse gas emissions (kt of CO2 equi...   \n",
       "1  Lower middle income  Total greenhouse gas emissions (kt of CO2 equi...   \n",
       "2  Upper middle income  Total greenhouse gas emissions (kt of CO2 equi...   \n",
       "3          High income  Total greenhouse gas emissions (kt of CO2 equi...   \n",
       "4  Upper middle income  Total greenhouse gas emissions (kt of CO2 equi...   \n",
       "\n",
       "      Indicator Code  1960  1961  1962  1963  ...    2011    2012    2013  \\\n",
       "0  EN.ATM.GHGT.KT.CE   NaN   NaN   NaN   NaN  ...   58650   66750   74800   \n",
       "1  EN.ATM.GHGT.KT.CE   NaN   NaN   NaN   NaN  ...   86040   84930   88410   \n",
       "2  EN.ATM.GHGT.KT.CE   NaN   NaN   NaN   NaN  ...    9630    9240    9440   \n",
       "3  EN.ATM.GHGT.KT.CE   NaN   NaN   NaN   NaN  ...  214630  226570  237630   \n",
       "4  EN.ATM.GHGT.KT.CE   NaN   NaN   NaN   NaN  ...  344800  348940  358180   \n",
       "\n",
       "     2014    2015    2016    2017    2018  2019  2020  \n",
       "0   84620   93730   95370   97300   98920   NaN   NaN  \n",
       "1   88980   90620   91240   87180   79730   NaN   NaN  \n",
       "2    9930    9850    9720   10290   10080   NaN   NaN  \n",
       "3  240020  252850  259650  269820  263240   NaN   NaN  \n",
       "4  356100  362560  366370  367320  365650   NaN   NaN  \n",
       "\n",
       "[5 rows x 67 columns]"
      ]
     },
     "execution_count": 5,
     "metadata": {},
     "output_type": "execute_result"
    }
   ],
   "source": [
    "df = pd.read_csv('datasets/base de datos 2.csv',\n",
    "                skiprows=range(4)\n",
    "                )\n",
    "df.head()"
   ]
  },
  {
   "cell_type": "code",
   "execution_count": 6,
   "id": "19095ad3-1438-4152-a1e4-d5553fd7236d",
   "metadata": {},
   "outputs": [],
   "source": [
    "df.columns=list(map(str,df.columns))"
   ]
  },
  {
   "cell_type": "code",
   "execution_count": 7,
   "id": "43a7e63f-db56-47a7-83ec-a347c64e8c07",
   "metadata": {},
   "outputs": [
    {
     "data": {
      "text/plain": [
       "True"
      ]
     },
     "execution_count": 7,
     "metadata": {},
     "output_type": "execute_result"
    }
   ],
   "source": [
    "all(isinstance(column,str)for column in df.columns)"
   ]
  },
  {
   "cell_type": "code",
   "execution_count": 8,
   "id": "e7643191-96fc-40ec-a044-01bd9b46f7be",
   "metadata": {},
   "outputs": [
    {
     "data": {
      "text/plain": [
       "Index(['Country Name', 'Country Code', 'Region', 'IncomeGroup',\n",
       "       'Indicator Name', 'Indicator Code', '1960', '1961', '1962', '1963',\n",
       "       '1964', '1965', '1966', '1967', '1968', '1969', '1970', '1971', '1972',\n",
       "       '1973', '1974', '1975', '1976', '1977', '1978', '1979', '1980', '1981',\n",
       "       '1982', '1983', '1984', '1985', '1986', '1987', '1988', '1989', '1990',\n",
       "       '1991', '1992', '1993', '1994', '1995', '1996', '1997', '1998', '1999',\n",
       "       '2000', '2001', '2002', '2003', '2004', '2005', '2006', '2007', '2008',\n",
       "       '2009', '2010', '2011', '2012', '2013', '2014', '2015', '2016', '2017',\n",
       "       '2018', '2019', '2020'],\n",
       "      dtype='object')"
      ]
     },
     "execution_count": 8,
     "metadata": {},
     "output_type": "execute_result"
    }
   ],
   "source": [
    "df.columns"
   ]
  },
  {
   "cell_type": "code",
   "execution_count": 9,
   "id": "970e9982-8c3b-4db3-9d04-78e3d4a41b61",
   "metadata": {},
   "outputs": [],
   "source": [
    "df['Total']=df.iloc[:,5:].sum(axis=1)\n",
    "df.head()\n",
    "df.set_index('Country Name',inplace=True)"
   ]
  },
  {
   "cell_type": "code",
   "execution_count": 10,
   "id": "403eaf5d-6ba3-4311-817f-ad57b1900975",
   "metadata": {},
   "outputs": [],
   "source": [
    "df = df.drop(['Country Code','Indicator Name', 'Indicator Code', '1960', '1961', '1962', '1963',\n",
    "       '1964', '1965', '1966', '1967', '1968', '1969','2019', '2020'],\n",
    "        axis = 1, \n",
    "        )\n",
    "\n",
    "df = df.drop('Russian Federation')"
   ]
  },
  {
   "cell_type": "code",
   "execution_count": 11,
   "id": "05f110b6-37d1-4acd-a4f6-7866a607eac3",
   "metadata": {},
   "outputs": [
    {
     "data": {
      "text/plain": [
       "['1970',\n",
       " '1971',\n",
       " '1972',\n",
       " '1973',\n",
       " '1974',\n",
       " '1975',\n",
       " '1976',\n",
       " '1977',\n",
       " '1978',\n",
       " '1979',\n",
       " '1980',\n",
       " '1981',\n",
       " '1982',\n",
       " '1983',\n",
       " '1984',\n",
       " '1985',\n",
       " '1986',\n",
       " '1987',\n",
       " '1988',\n",
       " '1989',\n",
       " '1990',\n",
       " '1991',\n",
       " '1992',\n",
       " '1993',\n",
       " '1994',\n",
       " '1995',\n",
       " '1996',\n",
       " '1997',\n",
       " '1998',\n",
       " '1999',\n",
       " '2000',\n",
       " '2001',\n",
       " '2002',\n",
       " '2003',\n",
       " '2004',\n",
       " '2005',\n",
       " '2006',\n",
       " '2007',\n",
       " '2008',\n",
       " '2009',\n",
       " '2010',\n",
       " '2011',\n",
       " '2012',\n",
       " '2013',\n",
       " '2014',\n",
       " '2015',\n",
       " '2016',\n",
       " '2017',\n",
       " '2018']"
      ]
     },
     "execution_count": 11,
     "metadata": {},
     "output_type": "execute_result"
    }
   ],
   "source": [
    "años=list(map(str,range(1970,2019)))\n",
    "años"
   ]
  },
  {
   "cell_type": "markdown",
   "id": "4d3279a4-3616-4e25-b3c2-4bdee137b171",
   "metadata": {
    "tags": []
   },
   "source": [
    "### Introduccion"
   ]
  },
  {
   "cell_type": "markdown",
   "id": "49dfa8e6-315e-4914-b1e7-14ddec7c4997",
   "metadata": {
    "tags": []
   },
   "source": [
    "##### La base de datos se recupero de The World Bank, la cual fue generada por el centro de Carbon Dioxide Information Analysis Center, Environmental Sciences Division, Oak Ridge National Laboratory, Tennessee, United States.\n",
    "\n",
    "##### Enlace a The World Bank para descargar: https://data.worldbank.org/indicator/EN.ATM.GHGT.KT.CE?view=chart "
   ]
  },
  {
   "cell_type": "markdown",
   "id": "15d378ee-6590-4bb4-ac2c-90eb06d5d7c7",
   "metadata": {
    "tags": []
   },
   "source": [
    "##### Descripcion de las variables\n",
    "\n",
    "La base de datos, despues de ser limpiada, tiene las siguientes columnas."
   ]
  },
  {
   "cell_type": "code",
   "execution_count": 12,
   "id": "68a700d9-d388-4e7c-8c47-4215bc27caeb",
   "metadata": {},
   "outputs": [
    {
     "data": {
      "text/plain": [
       "Index(['Region', 'IncomeGroup', '1970', '1971', '1972', '1973', '1974', '1975',\n",
       "       '1976', '1977', '1978', '1979', '1980', '1981', '1982', '1983', '1984',\n",
       "       '1985', '1986', '1987', '1988', '1989', '1990', '1991', '1992', '1993',\n",
       "       '1994', '1995', '1996', '1997', '1998', '1999', '2000', '2001', '2002',\n",
       "       '2003', '2004', '2005', '2006', '2007', '2008', '2009', '2010', '2011',\n",
       "       '2012', '2013', '2014', '2015', '2016', '2017', '2018', 'Total'],\n",
       "      dtype='object')"
      ]
     },
     "execution_count": 12,
     "metadata": {},
     "output_type": "execute_result"
    }
   ],
   "source": [
    "df.columns"
   ]
  },
  {
   "cell_type": "markdown",
   "id": "64e5d28b-448a-4358-8361-e6cabb2de790",
   "metadata": {},
   "source": [
    "* 'Country Name' es un variable cualitativa, la cual es nuestro índice y muestra el nombre de los países con los datos\n",
    "* 'Region' es un variable cualitativa, la cual explica la región donde está el país bajo estudio\n",
    "* 'IncomeGroup' es un variable cualitativa, la cual explica el tipo de ingreso promedio que se tiene  en el país respectivo\n",
    "* '1970' - '2018' es una variable cuantitativa, explica la cantidad total por año de kilotoneladas de gases de efecto invernadero (kt of CO2 equivalent) por cada país bajo estudio\n",
    "* 'Total' es una variable cuantitativa, la cual explica la cantidad total de kilotoneladas de gases de efecto invernadero a través de 1970-2018"
   ]
  },
  {
   "cell_type": "markdown",
   "id": "e869842e-6850-4454-aaff-94a0f4ce8863",
   "metadata": {},
   "source": [
    "La tabla se ve de la siguiente manera:"
   ]
  },
  {
   "cell_type": "code",
   "execution_count": 13,
   "id": "ee886b9c-0061-43d5-9dc8-b52644323b93",
   "metadata": {},
   "outputs": [
    {
     "data": {
      "text/html": [
       "<div>\n",
       "<style scoped>\n",
       "    .dataframe tbody tr th:only-of-type {\n",
       "        vertical-align: middle;\n",
       "    }\n",
       "\n",
       "    .dataframe tbody tr th {\n",
       "        vertical-align: top;\n",
       "    }\n",
       "\n",
       "    .dataframe thead th {\n",
       "        text-align: right;\n",
       "    }\n",
       "</style>\n",
       "<table border=\"1\" class=\"dataframe\">\n",
       "  <thead>\n",
       "    <tr style=\"text-align: right;\">\n",
       "      <th></th>\n",
       "      <th>Region</th>\n",
       "      <th>IncomeGroup</th>\n",
       "      <th>1970</th>\n",
       "      <th>1971</th>\n",
       "      <th>1972</th>\n",
       "      <th>1973</th>\n",
       "      <th>1974</th>\n",
       "      <th>1975</th>\n",
       "      <th>1976</th>\n",
       "      <th>1977</th>\n",
       "      <th>...</th>\n",
       "      <th>2010</th>\n",
       "      <th>2011</th>\n",
       "      <th>2012</th>\n",
       "      <th>2013</th>\n",
       "      <th>2014</th>\n",
       "      <th>2015</th>\n",
       "      <th>2016</th>\n",
       "      <th>2017</th>\n",
       "      <th>2018</th>\n",
       "      <th>Total</th>\n",
       "    </tr>\n",
       "    <tr>\n",
       "      <th>Country Name</th>\n",
       "      <th></th>\n",
       "      <th></th>\n",
       "      <th></th>\n",
       "      <th></th>\n",
       "      <th></th>\n",
       "      <th></th>\n",
       "      <th></th>\n",
       "      <th></th>\n",
       "      <th></th>\n",
       "      <th></th>\n",
       "      <th></th>\n",
       "      <th></th>\n",
       "      <th></th>\n",
       "      <th></th>\n",
       "      <th></th>\n",
       "      <th></th>\n",
       "      <th></th>\n",
       "      <th></th>\n",
       "      <th></th>\n",
       "      <th></th>\n",
       "      <th></th>\n",
       "    </tr>\n",
       "  </thead>\n",
       "  <tbody>\n",
       "    <tr>\n",
       "      <th>Afghanistan</th>\n",
       "      <td>South Asia</td>\n",
       "      <td>Low income</td>\n",
       "      <td>14306.616300</td>\n",
       "      <td>14391.77820</td>\n",
       "      <td>13040.848000</td>\n",
       "      <td>13535.754100</td>\n",
       "      <td>14945.96820</td>\n",
       "      <td>14574.164000</td>\n",
       "      <td>14746.851000</td>\n",
       "      <td>15247.281000</td>\n",
       "      <td>...</td>\n",
       "      <td>44910</td>\n",
       "      <td>58650</td>\n",
       "      <td>66750</td>\n",
       "      <td>74800</td>\n",
       "      <td>84620</td>\n",
       "      <td>93730</td>\n",
       "      <td>95370</td>\n",
       "      <td>97300</td>\n",
       "      <td>98920</td>\n",
       "      <td>1.356807e+06</td>\n",
       "    </tr>\n",
       "    <tr>\n",
       "      <th>Angola</th>\n",
       "      <td>Sub-Saharan Africa</td>\n",
       "      <td>Lower middle income</td>\n",
       "      <td>60648.601080</td>\n",
       "      <td>39162.17143</td>\n",
       "      <td>42205.650700</td>\n",
       "      <td>44252.669120</td>\n",
       "      <td>40179.23350</td>\n",
       "      <td>44429.300030</td>\n",
       "      <td>38448.024090</td>\n",
       "      <td>43563.412180</td>\n",
       "      <td>...</td>\n",
       "      <td>84120</td>\n",
       "      <td>86040</td>\n",
       "      <td>84930</td>\n",
       "      <td>88410</td>\n",
       "      <td>88980</td>\n",
       "      <td>90620</td>\n",
       "      <td>91240</td>\n",
       "      <td>87180</td>\n",
       "      <td>79730</td>\n",
       "      <td>2.759397e+06</td>\n",
       "    </tr>\n",
       "    <tr>\n",
       "      <th>Albania</th>\n",
       "      <td>Europe &amp; Central Asia</td>\n",
       "      <td>Upper middle income</td>\n",
       "      <td>6960.868200</td>\n",
       "      <td>6950.03610</td>\n",
       "      <td>7613.266100</td>\n",
       "      <td>7348.492100</td>\n",
       "      <td>7632.66430</td>\n",
       "      <td>7873.037000</td>\n",
       "      <td>8470.978400</td>\n",
       "      <td>8948.980900</td>\n",
       "      <td>...</td>\n",
       "      <td>9130</td>\n",
       "      <td>9630</td>\n",
       "      <td>9240</td>\n",
       "      <td>9440</td>\n",
       "      <td>9930</td>\n",
       "      <td>9850</td>\n",
       "      <td>9720</td>\n",
       "      <td>10290</td>\n",
       "      <td>10080</td>\n",
       "      <td>4.538428e+05</td>\n",
       "    </tr>\n",
       "    <tr>\n",
       "      <th>United Arab Emirates</th>\n",
       "      <td>Middle East &amp; North Africa</td>\n",
       "      <td>High income</td>\n",
       "      <td>32962.189410</td>\n",
       "      <td>41377.84513</td>\n",
       "      <td>44905.462750</td>\n",
       "      <td>56875.507820</td>\n",
       "      <td>57411.52655</td>\n",
       "      <td>57798.603420</td>\n",
       "      <td>70352.619200</td>\n",
       "      <td>69646.400200</td>\n",
       "      <td>...</td>\n",
       "      <td>208580</td>\n",
       "      <td>214630</td>\n",
       "      <td>226570</td>\n",
       "      <td>237630</td>\n",
       "      <td>240020</td>\n",
       "      <td>252850</td>\n",
       "      <td>259650</td>\n",
       "      <td>269820</td>\n",
       "      <td>263240</td>\n",
       "      <td>5.806373e+06</td>\n",
       "    </tr>\n",
       "    <tr>\n",
       "      <th>Argentina</th>\n",
       "      <td>Latin America &amp; Caribbean</td>\n",
       "      <td>Upper middle income</td>\n",
       "      <td>221957.023000</td>\n",
       "      <td>213551.78840</td>\n",
       "      <td>223912.278800</td>\n",
       "      <td>226956.033300</td>\n",
       "      <td>229456.38000</td>\n",
       "      <td>233416.770000</td>\n",
       "      <td>247051.660000</td>\n",
       "      <td>247370.860000</td>\n",
       "      <td>...</td>\n",
       "      <td>334590</td>\n",
       "      <td>344800</td>\n",
       "      <td>348940</td>\n",
       "      <td>358180</td>\n",
       "      <td>356100</td>\n",
       "      <td>362560</td>\n",
       "      <td>366370</td>\n",
       "      <td>367320</td>\n",
       "      <td>365650</td>\n",
       "      <td>1.380085e+07</td>\n",
       "    </tr>\n",
       "    <tr>\n",
       "      <th>...</th>\n",
       "      <td>...</td>\n",
       "      <td>...</td>\n",
       "      <td>...</td>\n",
       "      <td>...</td>\n",
       "      <td>...</td>\n",
       "      <td>...</td>\n",
       "      <td>...</td>\n",
       "      <td>...</td>\n",
       "      <td>...</td>\n",
       "      <td>...</td>\n",
       "      <td>...</td>\n",
       "      <td>...</td>\n",
       "      <td>...</td>\n",
       "      <td>...</td>\n",
       "      <td>...</td>\n",
       "      <td>...</td>\n",
       "      <td>...</td>\n",
       "      <td>...</td>\n",
       "      <td>...</td>\n",
       "      <td>...</td>\n",
       "      <td>...</td>\n",
       "    </tr>\n",
       "    <tr>\n",
       "      <th>Vanuatu</th>\n",
       "      <td>East Asia &amp; Pacific</td>\n",
       "      <td>Lower middle income</td>\n",
       "      <td>230.166810</td>\n",
       "      <td>248.10720</td>\n",
       "      <td>248.292490</td>\n",
       "      <td>273.713730</td>\n",
       "      <td>295.98076</td>\n",
       "      <td>299.019970</td>\n",
       "      <td>307.014010</td>\n",
       "      <td>307.471320</td>\n",
       "      <td>...</td>\n",
       "      <td>740</td>\n",
       "      <td>760</td>\n",
       "      <td>760</td>\n",
       "      <td>760</td>\n",
       "      <td>820</td>\n",
       "      <td>810</td>\n",
       "      <td>860</td>\n",
       "      <td>850</td>\n",
       "      <td>870</td>\n",
       "      <td>2.557503e+04</td>\n",
       "    </tr>\n",
       "    <tr>\n",
       "      <th>Samoa</th>\n",
       "      <td>East Asia &amp; Pacific</td>\n",
       "      <td>Lower middle income</td>\n",
       "      <td>116.577153</td>\n",
       "      <td>117.17352</td>\n",
       "      <td>117.292399</td>\n",
       "      <td>119.462904</td>\n",
       "      <td>130.82467</td>\n",
       "      <td>132.227594</td>\n",
       "      <td>132.698335</td>\n",
       "      <td>139.924788</td>\n",
       "      <td>...</td>\n",
       "      <td>520</td>\n",
       "      <td>530</td>\n",
       "      <td>540</td>\n",
       "      <td>550</td>\n",
       "      <td>570</td>\n",
       "      <td>620</td>\n",
       "      <td>660</td>\n",
       "      <td>670</td>\n",
       "      <td>690</td>\n",
       "      <td>1.797933e+04</td>\n",
       "    </tr>\n",
       "    <tr>\n",
       "      <th>Yemen, Rep.</th>\n",
       "      <td>Middle East &amp; North Africa</td>\n",
       "      <td>Low income</td>\n",
       "      <td>4839.520900</td>\n",
       "      <td>5099.19640</td>\n",
       "      <td>5353.745800</td>\n",
       "      <td>5678.184100</td>\n",
       "      <td>5872.29310</td>\n",
       "      <td>5917.569300</td>\n",
       "      <td>6186.568800</td>\n",
       "      <td>6264.113400</td>\n",
       "      <td>...</td>\n",
       "      <td>35610</td>\n",
       "      <td>32390</td>\n",
       "      <td>31470</td>\n",
       "      <td>38350</td>\n",
       "      <td>38810</td>\n",
       "      <td>26050</td>\n",
       "      <td>22740</td>\n",
       "      <td>21970</td>\n",
       "      <td>21760</td>\n",
       "      <td>8.692925e+05</td>\n",
       "    </tr>\n",
       "    <tr>\n",
       "      <th>Zambia</th>\n",
       "      <td>Sub-Saharan Africa</td>\n",
       "      <td>Lower middle income</td>\n",
       "      <td>234168.070000</td>\n",
       "      <td>132574.68800</td>\n",
       "      <td>142670.635000</td>\n",
       "      <td>153119.791000</td>\n",
       "      <td>133429.65100</td>\n",
       "      <td>158349.194000</td>\n",
       "      <td>140274.614000</td>\n",
       "      <td>161327.523000</td>\n",
       "      <td>...</td>\n",
       "      <td>32210</td>\n",
       "      <td>32210</td>\n",
       "      <td>36130</td>\n",
       "      <td>37220</td>\n",
       "      <td>37680</td>\n",
       "      <td>38840</td>\n",
       "      <td>39100</td>\n",
       "      <td>39670</td>\n",
       "      <td>40670</td>\n",
       "      <td>4.271997e+06</td>\n",
       "    </tr>\n",
       "    <tr>\n",
       "      <th>Zimbabwe</th>\n",
       "      <td>Sub-Saharan Africa</td>\n",
       "      <td>Lower middle income</td>\n",
       "      <td>24033.927000</td>\n",
       "      <td>21404.86900</td>\n",
       "      <td>21231.400000</td>\n",
       "      <td>23156.252000</td>\n",
       "      <td>22589.52500</td>\n",
       "      <td>22661.632000</td>\n",
       "      <td>23324.956000</td>\n",
       "      <td>23276.589000</td>\n",
       "      <td>...</td>\n",
       "      <td>28080</td>\n",
       "      <td>30550</td>\n",
       "      <td>30780</td>\n",
       "      <td>30860</td>\n",
       "      <td>29350</td>\n",
       "      <td>31280</td>\n",
       "      <td>29120</td>\n",
       "      <td>28800</td>\n",
       "      <td>31380</td>\n",
       "      <td>1.339225e+06</td>\n",
       "    </tr>\n",
       "  </tbody>\n",
       "</table>\n",
       "<p>171 rows × 52 columns</p>\n",
       "</div>"
      ],
      "text/plain": [
       "                                          Region          IncomeGroup  \\\n",
       "Country Name                                                            \n",
       "Afghanistan                           South Asia           Low income   \n",
       "Angola                        Sub-Saharan Africa  Lower middle income   \n",
       "Albania                    Europe & Central Asia  Upper middle income   \n",
       "United Arab Emirates  Middle East & North Africa          High income   \n",
       "Argentina              Latin America & Caribbean  Upper middle income   \n",
       "...                                          ...                  ...   \n",
       "Vanuatu                      East Asia & Pacific  Lower middle income   \n",
       "Samoa                        East Asia & Pacific  Lower middle income   \n",
       "Yemen, Rep.           Middle East & North Africa           Low income   \n",
       "Zambia                        Sub-Saharan Africa  Lower middle income   \n",
       "Zimbabwe                      Sub-Saharan Africa  Lower middle income   \n",
       "\n",
       "                               1970          1971           1972  \\\n",
       "Country Name                                                       \n",
       "Afghanistan            14306.616300   14391.77820   13040.848000   \n",
       "Angola                 60648.601080   39162.17143   42205.650700   \n",
       "Albania                 6960.868200    6950.03610    7613.266100   \n",
       "United Arab Emirates   32962.189410   41377.84513   44905.462750   \n",
       "Argentina             221957.023000  213551.78840  223912.278800   \n",
       "...                             ...           ...            ...   \n",
       "Vanuatu                  230.166810     248.10720     248.292490   \n",
       "Samoa                    116.577153     117.17352     117.292399   \n",
       "Yemen, Rep.             4839.520900    5099.19640    5353.745800   \n",
       "Zambia                234168.070000  132574.68800  142670.635000   \n",
       "Zimbabwe               24033.927000   21404.86900   21231.400000   \n",
       "\n",
       "                               1973          1974           1975  \\\n",
       "Country Name                                                       \n",
       "Afghanistan            13535.754100   14945.96820   14574.164000   \n",
       "Angola                 44252.669120   40179.23350   44429.300030   \n",
       "Albania                 7348.492100    7632.66430    7873.037000   \n",
       "United Arab Emirates   56875.507820   57411.52655   57798.603420   \n",
       "Argentina             226956.033300  229456.38000  233416.770000   \n",
       "...                             ...           ...            ...   \n",
       "Vanuatu                  273.713730     295.98076     299.019970   \n",
       "Samoa                    119.462904     130.82467     132.227594   \n",
       "Yemen, Rep.             5678.184100    5872.29310    5917.569300   \n",
       "Zambia                153119.791000  133429.65100  158349.194000   \n",
       "Zimbabwe               23156.252000   22589.52500   22661.632000   \n",
       "\n",
       "                               1976           1977  ...    2010    2011  \\\n",
       "Country Name                                        ...                   \n",
       "Afghanistan            14746.851000   15247.281000  ...   44910   58650   \n",
       "Angola                 38448.024090   43563.412180  ...   84120   86040   \n",
       "Albania                 8470.978400    8948.980900  ...    9130    9630   \n",
       "United Arab Emirates   70352.619200   69646.400200  ...  208580  214630   \n",
       "Argentina             247051.660000  247370.860000  ...  334590  344800   \n",
       "...                             ...            ...  ...     ...     ...   \n",
       "Vanuatu                  307.014010     307.471320  ...     740     760   \n",
       "Samoa                    132.698335     139.924788  ...     520     530   \n",
       "Yemen, Rep.             6186.568800    6264.113400  ...   35610   32390   \n",
       "Zambia                140274.614000  161327.523000  ...   32210   32210   \n",
       "Zimbabwe               23324.956000   23276.589000  ...   28080   30550   \n",
       "\n",
       "                        2012    2013    2014    2015    2016    2017    2018  \\\n",
       "Country Name                                                                   \n",
       "Afghanistan            66750   74800   84620   93730   95370   97300   98920   \n",
       "Angola                 84930   88410   88980   90620   91240   87180   79730   \n",
       "Albania                 9240    9440    9930    9850    9720   10290   10080   \n",
       "United Arab Emirates  226570  237630  240020  252850  259650  269820  263240   \n",
       "Argentina             348940  358180  356100  362560  366370  367320  365650   \n",
       "...                      ...     ...     ...     ...     ...     ...     ...   \n",
       "Vanuatu                  760     760     820     810     860     850     870   \n",
       "Samoa                    540     550     570     620     660     670     690   \n",
       "Yemen, Rep.            31470   38350   38810   26050   22740   21970   21760   \n",
       "Zambia                 36130   37220   37680   38840   39100   39670   40670   \n",
       "Zimbabwe               30780   30860   29350   31280   29120   28800   31380   \n",
       "\n",
       "                             Total  \n",
       "Country Name                        \n",
       "Afghanistan           1.356807e+06  \n",
       "Angola                2.759397e+06  \n",
       "Albania               4.538428e+05  \n",
       "United Arab Emirates  5.806373e+06  \n",
       "Argentina             1.380085e+07  \n",
       "...                            ...  \n",
       "Vanuatu               2.557503e+04  \n",
       "Samoa                 1.797933e+04  \n",
       "Yemen, Rep.           8.692925e+05  \n",
       "Zambia                4.271997e+06  \n",
       "Zimbabwe              1.339225e+06  \n",
       "\n",
       "[171 rows x 52 columns]"
      ]
     },
     "execution_count": 13,
     "metadata": {},
     "output_type": "execute_result"
    }
   ],
   "source": [
    "df"
   ]
  },
  {
   "cell_type": "markdown",
   "id": "a989ff95-5118-44af-a306-ccdc363c20cc",
   "metadata": {
    "tags": []
   },
   "source": [
    "### Pregunta de investigación 1: ¿Cuáles son los 5 países que producen la mayor cantidad de kilotoneladas de gases de efecto invernadero a través de 1970-2018? De la misma manera, ¿cuáles son los 5 países que producen la menor cantidad?"
   ]
  },
  {
   "cell_type": "code",
   "execution_count": 14,
   "id": "92afb696-f2d5-43f0-ad95-1dd4cced923b",
   "metadata": {},
   "outputs": [
    {
     "data": {
      "image/png": "[encoded data removed]",
      "text/plain": [
       "<Figure size 1440x720 with 1 Axes>"
      ]
     },
     "metadata": {
      "needs_background": "light"
     },
     "output_type": "display_data"
    }
   ],
   "source": [
    "df_topfive=df.sort_values(by='Total', \n",
    "                          ascending=False,\n",
    "                          axis=0,\n",
    "                         )\n",
    "df_topfive=df_topfive.head(5)\n",
    "df_topfive=df_topfive.loc[:,'Total']\n",
    "\n",
    "df_topfive.plot(kind='bar',figsize=(20,10))\n",
    "\n",
    "plt.xticks(fontsize=16,rotation=45)\n",
    "plt.yticks(fontsize=16,rotation=45)\n",
    "\n",
    "plt.title('Paises que producen la mayor cantidad de kilotoneladas de gases de efecto invernadero', fontsize=20)\n",
    "\n",
    "plt.xlabel('País', fontsize=16)\n",
    "plt.ylabel('Kilotoneladas de gases de efecto invernadero', fontsize=16)\n",
    "plt.show()\n",
    "#cambiar color"
   ]
  },
  {
   "cell_type": "code",
   "execution_count": 15,
   "id": "d0b7a23c-1203-4bc7-9f99-060cfb8fff3a",
   "metadata": {},
   "outputs": [
    {
     "data": {
      "image/png": "[encoded data removed]",
      "text/plain": [
       "<Figure size 1440x720 with 1 Axes>"
      ]
     },
     "metadata": {
      "needs_background": "light"
     },
     "output_type": "display_data"
    }
   ],
   "source": [
    "df_bottomfive=df.sort_values(by='Total', \n",
    "                          ascending=True,\n",
    "                          axis=0,\n",
    "                         )\n",
    "\n",
    "df_bottomfive=df_bottomfive.head(5)\n",
    "df_bottomfive=df_bottomfive.loc[:,'Total']\n",
    "\n",
    "df_bottomfive.plot(kind='bar',figsize=(20,10))\n",
    "\n",
    "plt.xticks(fontsize=16,rotation=45)\n",
    "plt.yticks(fontsize=16,rotation=45)\n",
    "\n",
    "plt.title('Paises que producen la menor cantidad de kilotoneladas de gases de efecto invernadero', fontsize=20)\n",
    "\n",
    "plt.xlabel('País', fontsize=16)\n",
    "plt.ylabel('Kilotoneladas de gases de efecto invernadero', fontsize=16)\n",
    "plt.show()\n",
    "#cambiar color"
   ]
  },
  {
   "cell_type": "markdown",
   "id": "70a91769-d427-447f-a82c-71db2ad76e8b",
   "metadata": {},
   "source": [
    "##### Conclusión"
   ]
  },
  {
   "cell_type": "markdown",
   "id": "d67f71bf-5111-4166-a70e-b423b5a146f6",
   "metadata": {},
   "source": [
    "* En la primera gráfica, podemos ver que los países que producen más contaminación son: United States, China, India, Japan y Germany. \n",
    "  Como sabemos, estos países tienen un rol importante en la economía global y por ende, contribuyen mucho en la producción de gases de efecto invernadero.\n",
    "* En la segunda gráfica, podemos ver que los países que producen menos contaminación son: Dominicana, Miconesia, Fed. Sts., Sao Tome and Principe, Marshall Islands y Tuvalu. \n",
    "  Esto dado a que son países muy pequeños y por ende, no producen casi nada de contaminación."
   ]
  },
  {
   "cell_type": "markdown",
   "id": "8f03815e-8a6e-42cc-bf28-e68faed83770",
   "metadata": {
    "tags": []
   },
   "source": [
    "### Pregunta de investigación 2: ¿Cuál es la relación que hay entre el tipo de ingreso con la cantidad total de las kilotoneladas de gases de efecto invernadero producidos a través de los años?"
   ]
  },
  {
   "cell_type": "code",
   "execution_count": 20,
   "id": "17a170ae-ad32-4e00-ac61-f03faddc7437",
   "metadata": {},
   "outputs": [
    {
     "data": {
      "text/html": [
       "<div>\n",
       "<style scoped>\n",
       "    .dataframe tbody tr th:only-of-type {\n",
       "        vertical-align: middle;\n",
       "    }\n",
       "\n",
       "    .dataframe tbody tr th {\n",
       "        vertical-align: top;\n",
       "    }\n",
       "\n",
       "    .dataframe thead th {\n",
       "        text-align: right;\n",
       "    }\n",
       "</style>\n",
       "<table border=\"1\" class=\"dataframe\">\n",
       "  <thead>\n",
       "    <tr style=\"text-align: right;\">\n",
       "      <th></th>\n",
       "      <th>Total</th>\n",
       "    </tr>\n",
       "    <tr>\n",
       "      <th>IncomeGroup</th>\n",
       "      <th></th>\n",
       "    </tr>\n",
       "  </thead>\n",
       "  <tbody>\n",
       "    <tr>\n",
       "      <th>High income</th>\n",
       "      <td>1.504587e+07</td>\n",
       "    </tr>\n",
       "    <tr>\n",
       "      <th>Low income</th>\n",
       "      <td>2.236026e+06</td>\n",
       "    </tr>\n",
       "    <tr>\n",
       "      <th>Lower middle income</th>\n",
       "      <td>5.570734e+06</td>\n",
       "    </tr>\n",
       "    <tr>\n",
       "      <th>Upper middle income</th>\n",
       "      <td>1.026910e+07</td>\n",
       "    </tr>\n",
       "    <tr>\n",
       "      <th>All</th>\n",
       "      <td>8.904392e+06</td>\n",
       "    </tr>\n",
       "  </tbody>\n",
       "</table>\n",
       "</div>"
      ],
      "text/plain": [
       "                            Total\n",
       "IncomeGroup                      \n",
       "High income          1.504587e+07\n",
       "Low income           2.236026e+06\n",
       "Lower middle income  5.570734e+06\n",
       "Upper middle income  1.026910e+07\n",
       "All                  8.904392e+06"
      ]
     },
     "execution_count": 20,
     "metadata": {},
     "output_type": "execute_result"
    }
   ],
   "source": [
    "my_pivot=pd.pivot_table(df,\n",
    "                        index='IncomeGroup',\n",
    "                        values='Total',\n",
    "                        margins=True\n",
    "                       )\n",
    "my_pivot"
   ]
  },
  {
   "cell_type": "code",
   "execution_count": 21,
   "id": "d316434d-d1cd-43af-8b14-45ec401b28a9",
   "metadata": {},
   "outputs": [
    {
     "data": {
      "image/png": "[encoded data removed]",
      "text/plain": [
       "<Figure size 1440x720 with 1 Axes>"
      ]
     },
     "metadata": {
      "needs_background": "light"
     },
     "output_type": "display_data"
    }
   ],
   "source": [
    "my_pivot = my_pivot.drop('All')\n",
    "\n",
    "my_pivot.plot(kind='bar',figsize=(20,10))\n",
    "\n",
    "plt.xlabel('Income Group', fontsize = 16)\n",
    "plt.xticks(fontsize = 16, rotation = 45)\n",
    "\n",
    "plt.ylabel('Kilotoneladas de Gases de Efecto Invernadero', fontsize = 16)\n",
    "plt.yticks(fontsize = 16, rotation = 45)\n",
    "\n",
    "plt.title('Producción de Gases de Efecto Invernadero por tipo de Ingreso',\n",
    "          fontsize = 20)\n",
    "\n",
    "plt.show()"
   ]
  },
  {
   "cell_type": "markdown",
   "id": "4ef4f02d-79ad-4171-871b-d93c8505abe6",
   "metadata": {},
   "source": [
    "##### Conclusión"
   ]
  },
  {
   "cell_type": "markdown",
   "id": "99e3245d-5a4b-48e1-aeae-7c8c3f67524d",
   "metadata": {},
   "source": [
    "* Podemos notar que si existe una relación entre el tipo de ingreso del país con la cantidad de kilotoneladas de gases de efecto invernadero producidas. \n",
    "* Entre más ingresos tenga la población del país, más gases de efecto invernadero se producen."
   ]
  },
  {
   "cell_type": "markdown",
   "id": "92adfc4a-c5f6-4dd9-bc87-fc204501d498",
   "metadata": {
    "tags": []
   },
   "source": [
    "### Pregunta de investigación 3: ¿Cómo se ve México en cuánto a su producción de gases de efecto invernadero a través de los años? ¿Tiene algún tipo de tendencia?"
   ]
  },
  {
   "cell_type": "code",
   "execution_count": 18,
   "id": "b212e2f6-ee7c-4cb3-8777-d30bc1aa5bfe",
   "metadata": {},
   "outputs": [
    {
     "data": {
      "image/png": "[encoded data removed]",
      "text/plain": [
       "<Figure size 1440x720 with 1 Axes>"
      ]
     },
     "metadata": {
      "needs_background": "light"
     },
     "output_type": "display_data"
    }
   ],
   "source": [
    "df.loc['Mexico', años].plot(figsize=(20,10))\n",
    "plt.xlabel('Años', fontsize = 16)\n",
    "plt.xticks(fontsize = 16, rotation = 45)\n",
    "\n",
    "plt.ylabel('Kilotoneladas de Gases de Efecto Invernadero', fontsize = 16)\n",
    "plt.yticks(fontsize = 16, rotation = 45)\n",
    "\n",
    "plt.title('Producción de Gases de Efecto Invernadero de México',\n",
    "          fontsize = 20)\n",
    "\n",
    "plt.show()"
   ]
  },
  {
   "cell_type": "markdown",
   "id": "4286b2bb-ca68-4f4e-bc1d-10b9fb3d0b00",
   "metadata": {
    "tags": []
   },
   "source": [
    "##### Conclusión"
   ]
  },
  {
   "cell_type": "markdown",
   "id": "e66f591a-1a55-436e-b586-79548cdbf2e0",
   "metadata": {},
   "source": [
    "* Como se muestra en la gráfica, la tendencia de México es creciente. Podríamos investigar con más profundidad a que se debe esto. "
   ]
  },
  {
   "cell_type": "markdown",
   "id": "3a17252b-015e-413c-9a84-d734e861747a",
   "metadata": {},
   "source": [
    "### Limitaciones"
   ]
  },
  {
   "cell_type": "markdown",
   "id": "e44a44c4-1531-4839-9bf5-e8d2e63dcbde",
   "metadata": {},
   "source": [
    "* Los datos se tuvieron que filtrar porque no se tenían todos los datos completos de todos los países. \n",
    "* Existe mucha información complementaria que podría hacer más completa esta investigación, pero por cuestiones de tiempo, no se puede hacer."
   ]
  },
  {
   "cell_type": "markdown",
   "id": "122f89d4-8fba-45b9-ac04-403bc7134f92",
   "metadata": {},
   "source": [
    "### Pasos a seguir"
   ]
  },
  {
   "cell_type": "markdown",
   "id": "67bb8f1e-f7ee-4439-b420-b02d9d2a38ce",
   "metadata": {},
   "source": [
    "* Ver la siguiente entrega para poder seguir investigando más \n",
    "* Seguir aprendiendo diferentes maneras en las que se puede hacer estadística descriptiva"
   ]
  },
  {
   "cell_type": "code",
   "execution_count": null,
   "id": "70351766-59ea-4dc1-91ce-0ab009a96b0f",
   "metadata": {},
   "outputs": [],
   "source": []
  }
 ],
 "metadata": {
  "kernelspec": {
   "display_name": "Python 3 (ipykernel)",
   "language": "python",
   "name": "python3"
  },
  "language_info": {
   "codemirror_mode": {
    "name": "ipython",
    "version": 3
   },
   "file_extension": ".py",
   "mimetype": "text/x-python",
   "name": "python",
   "nbconvert_exporter": "python",
   "pygments_lexer": "ipython3",
   "version": "3.7.10"
  }
 },
 "nbformat": 4,
 "nbformat_minor": 5
}
