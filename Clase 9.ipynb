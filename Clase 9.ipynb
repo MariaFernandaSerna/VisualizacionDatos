{
 "cells": [
  {
   "cell_type": "markdown",
   "id": "6f845c28-86d8-4487-b56f-98aa485aead2",
   "metadata": {},
   "source": [
    "# Clase 9.1 Regresion lineal simple, multiple"
   ]
  },
  {
   "cell_type": "code",
   "execution_count": 1,
   "id": "4e94c99f-52da-4221-a1ed-b461ea78aedf",
   "metadata": {},
   "outputs": [
    {
     "name": "stdout",
     "output_type": "stream",
     "text": [
      " adult.csv                     Canada.xlsx         mic.xlsx\n",
      " airline_data.csv              Cartwheeldata.csv   movies.csv\n",
      " antropometria00.csv           census.csv          nhanes_2015_2016.csv\n",
      " antropometria-dataset-1.csv   coches.csv          pokemon.csv\n",
      " antropometria-dataset.csv     cwurData.csv        reg_data.csv\n",
      "'base de datos 2.csv'          data.csv            sample_pivot.csv\n",
      "'base de datos.xlsx'           headbrain.csv       tips.csv\n",
      " Book3.csv                     mic2.xlsx           weight-height.csv\n"
     ]
    }
   ],
   "source": [
    "%ls datasets"
   ]
  },
  {
   "cell_type": "code",
   "execution_count": 2,
   "id": "392d14b6-cb8e-474f-9c06-4a4063591384",
   "metadata": {},
   "outputs": [],
   "source": [
    "import pandas as pd"
   ]
  },
  {
   "cell_type": "code",
   "execution_count": 3,
   "id": "469e0bbb-47ae-46d0-b461-58a9420ba73c",
   "metadata": {},
   "outputs": [
    {
     "data": {
      "text/html": [
       "<div>\n",
       "<style scoped>\n",
       "    .dataframe tbody tr th:only-of-type {\n",
       "        vertical-align: middle;\n",
       "    }\n",
       "\n",
       "    .dataframe tbody tr th {\n",
       "        vertical-align: top;\n",
       "    }\n",
       "\n",
       "    .dataframe thead th {\n",
       "        text-align: right;\n",
       "    }\n",
       "</style>\n",
       "<table border=\"1\" class=\"dataframe\">\n",
       "  <thead>\n",
       "    <tr style=\"text-align: right;\">\n",
       "      <th></th>\n",
       "      <th>Gender</th>\n",
       "      <th>Salary</th>\n",
       "      <th>Age</th>\n",
       "      <th>Place</th>\n",
       "      <th>Weight</th>\n",
       "      <th>Company</th>\n",
       "      <th>Academic_degree</th>\n",
       "    </tr>\n",
       "  </thead>\n",
       "  <tbody>\n",
       "    <tr>\n",
       "      <th>0</th>\n",
       "      <td>Female</td>\n",
       "      <td>1500</td>\n",
       "      <td>33</td>\n",
       "      <td>Chicago</td>\n",
       "      <td>80.0</td>\n",
       "      <td>BMW</td>\n",
       "      <td>Bachelor</td>\n",
       "    </tr>\n",
       "    <tr>\n",
       "      <th>1</th>\n",
       "      <td>Female</td>\n",
       "      <td>1200</td>\n",
       "      <td>33</td>\n",
       "      <td>Chicago</td>\n",
       "      <td>82.5</td>\n",
       "      <td>Ford</td>\n",
       "      <td>No</td>\n",
       "    </tr>\n",
       "    <tr>\n",
       "      <th>2</th>\n",
       "      <td>Male</td>\n",
       "      <td>2200</td>\n",
       "      <td>34</td>\n",
       "      <td>New York</td>\n",
       "      <td>100.8</td>\n",
       "      <td>BMW</td>\n",
       "      <td>Bachelor</td>\n",
       "    </tr>\n",
       "    <tr>\n",
       "      <th>3</th>\n",
       "      <td>Male</td>\n",
       "      <td>2100</td>\n",
       "      <td>42</td>\n",
       "      <td>New York</td>\n",
       "      <td>90.0</td>\n",
       "      <td>BMW</td>\n",
       "      <td>Master</td>\n",
       "    </tr>\n",
       "    <tr>\n",
       "      <th>4</th>\n",
       "      <td>Female</td>\n",
       "      <td>1500</td>\n",
       "      <td>29</td>\n",
       "      <td>Chicago</td>\n",
       "      <td>67.0</td>\n",
       "      <td>Ford</td>\n",
       "      <td>Master</td>\n",
       "    </tr>\n",
       "    <tr>\n",
       "      <th>5</th>\n",
       "      <td>Female</td>\n",
       "      <td>1700</td>\n",
       "      <td>42</td>\n",
       "      <td>Washington</td>\n",
       "      <td>60.0</td>\n",
       "      <td>Ford</td>\n",
       "      <td>Master</td>\n",
       "    </tr>\n",
       "    <tr>\n",
       "      <th>6</th>\n",
       "      <td>Male</td>\n",
       "      <td>3000</td>\n",
       "      <td>50</td>\n",
       "      <td>Washington</td>\n",
       "      <td>77.0</td>\n",
       "      <td>Ford</td>\n",
       "      <td>No</td>\n",
       "    </tr>\n",
       "    <tr>\n",
       "      <th>7</th>\n",
       "      <td>Male</td>\n",
       "      <td>3000</td>\n",
       "      <td>55</td>\n",
       "      <td>Washington</td>\n",
       "      <td>77.0</td>\n",
       "      <td>Ford</td>\n",
       "      <td>Bachelor</td>\n",
       "    </tr>\n",
       "    <tr>\n",
       "      <th>8</th>\n",
       "      <td>Female</td>\n",
       "      <td>2800</td>\n",
       "      <td>31</td>\n",
       "      <td>New York</td>\n",
       "      <td>87.0</td>\n",
       "      <td>Ford</td>\n",
       "      <td>Bachelor</td>\n",
       "    </tr>\n",
       "    <tr>\n",
       "      <th>9</th>\n",
       "      <td>Male</td>\n",
       "      <td>2900</td>\n",
       "      <td>46</td>\n",
       "      <td>New York</td>\n",
       "      <td>70.0</td>\n",
       "      <td>GM</td>\n",
       "      <td>Master</td>\n",
       "    </tr>\n",
       "    <tr>\n",
       "      <th>10</th>\n",
       "      <td>Female</td>\n",
       "      <td>2780</td>\n",
       "      <td>36</td>\n",
       "      <td>Washington</td>\n",
       "      <td>57.0</td>\n",
       "      <td>BMW</td>\n",
       "      <td>No</td>\n",
       "    </tr>\n",
       "    <tr>\n",
       "      <th>11</th>\n",
       "      <td>Male</td>\n",
       "      <td>2550</td>\n",
       "      <td>48</td>\n",
       "      <td>New York</td>\n",
       "      <td>64.0</td>\n",
       "      <td>GM</td>\n",
       "      <td>Master</td>\n",
       "    </tr>\n",
       "  </tbody>\n",
       "</table>\n",
       "</div>"
      ],
      "text/plain": [
       "    Gender  Salary  Age       Place  Weight Company Academic_degree\n",
       "0   Female    1500   33     Chicago    80.0     BMW        Bachelor\n",
       "1   Female    1200   33     Chicago    82.5    Ford              No\n",
       "2     Male    2200   34    New York   100.8     BMW        Bachelor\n",
       "3     Male    2100   42    New York    90.0     BMW          Master\n",
       "4   Female    1500   29     Chicago    67.0    Ford          Master\n",
       "5   Female    1700   42  Washington    60.0    Ford          Master\n",
       "6     Male    3000   50  Washington    77.0    Ford              No\n",
       "7     Male    3000   55  Washington    77.0    Ford        Bachelor\n",
       "8   Female    2800   31    New York    87.0    Ford        Bachelor\n",
       "9     Male    2900   46    New York    70.0      GM          Master\n",
       "10  Female    2780   36  Washington    57.0     BMW              No\n",
       "11    Male    2550   48    New York    64.0      GM          Master"
      ]
     },
     "execution_count": 3,
     "metadata": {},
     "output_type": "execute_result"
    }
   ],
   "source": [
    "df = pd.read_csv('datasets/reg_data.csv')\n",
    "df"
   ]
  },
  {
   "cell_type": "markdown",
   "id": "61de0c5b-bb22-4d72-b2c2-3cf54dad2b75",
   "metadata": {},
   "source": [
    "# Pregunta 1:\n",
    "## Cual es el impacto de age en salary \n",
    "### Salary = b0 + b1*age"
   ]
  },
  {
   "cell_type": "code",
   "execution_count": 4,
   "id": "221abe50-75e9-44d0-b2c4-5db62d4ccb31",
   "metadata": {},
   "outputs": [],
   "source": [
    "#pip install statsmodels "
   ]
  },
  {
   "cell_type": "code",
   "execution_count": 5,
   "id": "4f255c65-ea36-42ce-8395-397fe17a0701",
   "metadata": {},
   "outputs": [],
   "source": [
    "#pip install seaborn"
   ]
  },
  {
   "cell_type": "code",
   "execution_count": 6,
   "id": "9d04be01-6692-4795-9961-336264be8dbd",
   "metadata": {},
   "outputs": [],
   "source": [
    "import matplotlib.pyplot as plt\n",
    "import seaborn as sns \n",
    "import statsmodels.api as sm \n",
    "import numpy as np\n",
    "from sklearn import linear_model"
   ]
  },
  {
   "cell_type": "code",
   "execution_count": 8,
   "id": "e193117e-dd3a-4eb7-afe0-689e75e148f7",
   "metadata": {},
   "outputs": [
    {
     "name": "stderr",
     "output_type": "stream",
     "text": [
      "/srv/conda/envs/notebook/lib/python3.7/site-packages/scipy/stats/stats.py:1535: UserWarning: kurtosistest only valid for n>=20 ... continuing anyway, n=12\n",
      "  \"anyway, n=%i\" % int(n))\n"
     ]
    },
    {
     "data": {
      "text/html": [
       "<table class=\"simpletable\">\n",
       "<caption>OLS Regression Results</caption>\n",
       "<tr>\n",
       "  <th>Dep. Variable:</th>         <td>Salary</td>      <th>  R-squared:         </th> <td>   0.380</td>\n",
       "</tr>\n",
       "<tr>\n",
       "  <th>Model:</th>                   <td>OLS</td>       <th>  Adj. R-squared:    </th> <td>   0.319</td>\n",
       "</tr>\n",
       "<tr>\n",
       "  <th>Method:</th>             <td>Least Squares</td>  <th>  F-statistic:       </th> <td>   6.142</td>\n",
       "</tr>\n",
       "<tr>\n",
       "  <th>Date:</th>             <td>Tue, 30 Nov 2021</td> <th>  Prob (F-statistic):</th>  <td>0.0326</td> \n",
       "</tr>\n",
       "<tr>\n",
       "  <th>Time:</th>                 <td>13:31:46</td>     <th>  Log-Likelihood:    </th> <td> -91.514</td>\n",
       "</tr>\n",
       "<tr>\n",
       "  <th>No. Observations:</th>      <td>    12</td>      <th>  AIC:               </th> <td>   187.0</td>\n",
       "</tr>\n",
       "<tr>\n",
       "  <th>Df Residuals:</th>          <td>    10</td>      <th>  BIC:               </th> <td>   188.0</td>\n",
       "</tr>\n",
       "<tr>\n",
       "  <th>Df Model:</th>              <td>     1</td>      <th>                     </th>     <td> </td>   \n",
       "</tr>\n",
       "<tr>\n",
       "  <th>Covariance Type:</th>      <td>nonrobust</td>    <th>                     </th>     <td> </td>   \n",
       "</tr>\n",
       "</table>\n",
       "<table class=\"simpletable\">\n",
       "<tr>\n",
       "      <td></td>         <th>coef</th>     <th>std err</th>      <th>t</th>      <th>P>|t|</th>  <th>[0.025</th>    <th>0.975]</th>  \n",
       "</tr>\n",
       "<tr>\n",
       "  <th>Intercept</th> <td>  349.4458</td> <td>  790.373</td> <td>    0.442</td> <td> 0.668</td> <td>-1411.614</td> <td> 2110.506</td>\n",
       "</tr>\n",
       "<tr>\n",
       "  <th>Age</th>       <td>   48.0932</td> <td>   19.406</td> <td>    2.478</td> <td> 0.033</td> <td>    4.853</td> <td>   91.333</td>\n",
       "</tr>\n",
       "</table>\n",
       "<table class=\"simpletable\">\n",
       "<tr>\n",
       "  <th>Omnibus:</th>       <td> 0.406</td> <th>  Durbin-Watson:     </th> <td>   1.484</td>\n",
       "</tr>\n",
       "<tr>\n",
       "  <th>Prob(Omnibus):</th> <td> 0.816</td> <th>  Jarque-Bera (JB):  </th> <td>   0.479</td>\n",
       "</tr>\n",
       "<tr>\n",
       "  <th>Skew:</th>          <td> 0.321</td> <th>  Prob(JB):          </th> <td>   0.787</td>\n",
       "</tr>\n",
       "<tr>\n",
       "  <th>Kurtosis:</th>      <td> 2.261</td> <th>  Cond. No.          </th> <td>    205.</td>\n",
       "</tr>\n",
       "</table><br/><br/>Notes:<br/>[1] Standard Errors assume that the covariance matrix of the errors is correctly specified."
      ],
      "text/plain": [
       "<class 'statsmodels.iolib.summary.Summary'>\n",
       "\"\"\"\n",
       "                            OLS Regression Results                            \n",
       "==============================================================================\n",
       "Dep. Variable:                 Salary   R-squared:                       0.380\n",
       "Model:                            OLS   Adj. R-squared:                  0.319\n",
       "Method:                 Least Squares   F-statistic:                     6.142\n",
       "Date:                Tue, 30 Nov 2021   Prob (F-statistic):             0.0326\n",
       "Time:                        13:31:46   Log-Likelihood:                -91.514\n",
       "No. Observations:                  12   AIC:                             187.0\n",
       "Df Residuals:                      10   BIC:                             188.0\n",
       "Df Model:                           1                                         \n",
       "Covariance Type:            nonrobust                                         \n",
       "==============================================================================\n",
       "                 coef    std err          t      P>|t|      [0.025      0.975]\n",
       "------------------------------------------------------------------------------\n",
       "Intercept    349.4458    790.373      0.442      0.668   -1411.614    2110.506\n",
       "Age           48.0932     19.406      2.478      0.033       4.853      91.333\n",
       "==============================================================================\n",
       "Omnibus:                        0.406   Durbin-Watson:                   1.484\n",
       "Prob(Omnibus):                  0.816   Jarque-Bera (JB):                0.479\n",
       "Skew:                           0.321   Prob(JB):                        0.787\n",
       "Kurtosis:                       2.261   Cond. No.                         205.\n",
       "==============================================================================\n",
       "\n",
       "Notes:\n",
       "[1] Standard Errors assume that the covariance matrix of the errors is correctly specified.\n",
       "\"\"\""
      ]
     },
     "execution_count": 8,
     "metadata": {},
     "output_type": "execute_result"
    }
   ],
   "source": [
    "modelA = sm.OLS.from_formula('Salary~Age', data = df )\n",
    "resultA = modelA.fit()\n",
    "resultA.summary()"
   ]
  },
  {
   "cell_type": "markdown",
   "id": "6e48ec2f-f684-414c-9513-8b83e79f1362",
   "metadata": {},
   "source": [
    "# Observaciones:\n",
    "* Variable dependiente: Salary\n",
    "* Variable independiente: Age\n",
    "* R-Square : 0.380; por lo tanto,modelo no es eficiente, no es confiable\n",
    "\n",
    "* Df model: 1\n",
    "* Intercept > 0.05; no es significativo\n",
    "\n",
    "Salary = 349.4458 + 48.0932*Age\n",
    "\n",
    "* P> T ; mayor a 0.05 no es significativo "
   ]
  },
  {
   "cell_type": "code",
   "execution_count": 12,
   "id": "6309cb47-989f-44e6-83f5-6ae28482f419",
   "metadata": {},
   "outputs": [
    {
     "name": "stdout",
     "output_type": "stream",
     "text": [
      "Salary of a person whose age is 33 :\t 1936.5214\n"
     ]
    },
    {
     "data": {
      "text/html": [
       "<div>\n",
       "<style scoped>\n",
       "    .dataframe tbody tr th:only-of-type {\n",
       "        vertical-align: middle;\n",
       "    }\n",
       "\n",
       "    .dataframe tbody tr th {\n",
       "        vertical-align: top;\n",
       "    }\n",
       "\n",
       "    .dataframe thead th {\n",
       "        text-align: right;\n",
       "    }\n",
       "</style>\n",
       "<table border=\"1\" class=\"dataframe\">\n",
       "  <thead>\n",
       "    <tr style=\"text-align: right;\">\n",
       "      <th></th>\n",
       "      <th>Gender</th>\n",
       "      <th>Salary</th>\n",
       "      <th>Age</th>\n",
       "      <th>Place</th>\n",
       "      <th>Weight</th>\n",
       "      <th>Company</th>\n",
       "      <th>Academic_degree</th>\n",
       "    </tr>\n",
       "  </thead>\n",
       "  <tbody>\n",
       "    <tr>\n",
       "      <th>0</th>\n",
       "      <td>Female</td>\n",
       "      <td>1500</td>\n",
       "      <td>33</td>\n",
       "      <td>Chicago</td>\n",
       "      <td>80.0</td>\n",
       "      <td>BMW</td>\n",
       "      <td>Bachelor</td>\n",
       "    </tr>\n",
       "    <tr>\n",
       "      <th>1</th>\n",
       "      <td>Female</td>\n",
       "      <td>1200</td>\n",
       "      <td>33</td>\n",
       "      <td>Chicago</td>\n",
       "      <td>82.5</td>\n",
       "      <td>Ford</td>\n",
       "      <td>No</td>\n",
       "    </tr>\n",
       "  </tbody>\n",
       "</table>\n",
       "</div>"
      ],
      "text/plain": [
       "   Gender  Salary  Age    Place  Weight Company Academic_degree\n",
       "0  Female    1500   33  Chicago    80.0     BMW        Bachelor\n",
       "1  Female    1200   33  Chicago    82.5    Ford              No"
      ]
     },
     "execution_count": 12,
     "metadata": {},
     "output_type": "execute_result"
    }
   ],
   "source": [
    "print('Salary of a person whose age is 33 :\\t' , 349.4458 + 48.0932*33)\n",
    "\n",
    "df.iloc[:2,:]"
   ]
  },
  {
   "cell_type": "code",
   "execution_count": 15,
   "id": "b9632f29-5efa-443a-99ab-f6ea009de45e",
   "metadata": {},
   "outputs": [
    {
     "name": "stdout",
     "output_type": "stream",
     "text": [
      "Diferencia es :\t -436.5214000000001\n",
      "Diferencia es :\t -736.5214000000001\n"
     ]
    },
    {
     "data": {
      "text/plain": [
       "0    -436.521924\n",
       "1    -736.521924\n",
       "2     215.384860\n",
       "3    -269.360866\n",
       "4    -244.149060\n",
       "5    -669.360866\n",
       "6     245.893407\n",
       "7       5.427328\n",
       "8     959.664508\n",
       "9     338.266270\n",
       "10    699.198429\n",
       "11   -107.920161\n",
       "dtype: float64"
      ]
     },
     "execution_count": 15,
     "metadata": {},
     "output_type": "execute_result"
    }
   ],
   "source": [
    "print('Diferencia es :\\t', 1500-1936.5214)\n",
    "print('Diferencia es :\\t', 1200-1936.5214)\n",
    "\n",
    "resultA.resid"
   ]
  },
  {
   "cell_type": "code",
   "execution_count": 33,
   "id": "b15b75c0-05d3-4ba9-9272-a073170ebb14",
   "metadata": {},
   "outputs": [
    {
     "data": {
      "image/png": "[encoded data removed]",
      "text/plain": [
       "<Figure size 1080x720 with 1 Axes>"
      ]
     },
     "metadata": {},
     "output_type": "display_data"
    }
   ],
   "source": [
    "plt.figure(figsize = (15,10))\n",
    "sns.set(font_scale = 1.7)\n",
    "\n",
    "reg_plot = sns.regplot(x = 'Age',\n",
    "            y = 'Salary',\n",
    "            data = df,\n",
    "           marker = '+',\n",
    "           color = 'green', \n",
    "            scatter_kws = {'s':200}\n",
    "           )\n",
    "\n",
    "reg_plot.set_title('Regression plot of Salary vs Age')\n",
    "reg_plot.text(45 ,1500, '349.4458 + 48.0932*Age',\n",
    "             color = 'green', \n",
    "             size = 'medium')\n",
    "plt.show()"
   ]
  },
  {
   "cell_type": "code",
   "execution_count": 35,
   "id": "ce612890-19cf-42a7-90be-b1a1b6c976be",
   "metadata": {},
   "outputs": [
    {
     "data": {
      "text/plain": [
       "0    -436.521924\n",
       "1    -736.521924\n",
       "2     215.384860\n",
       "3    -269.360866\n",
       "4    -244.149060\n",
       "5    -669.360866\n",
       "6     245.893407\n",
       "7       5.427328\n",
       "8     959.664508\n",
       "9     338.266270\n",
       "10    699.198429\n",
       "11   -107.920161\n",
       "dtype: float64"
      ]
     },
     "execution_count": 35,
     "metadata": {},
     "output_type": "execute_result"
    }
   ],
   "source": [
    "RESIA = resultA.resid\n",
    "RESIA"
   ]
  },
  {
   "cell_type": "code",
   "execution_count": 36,
   "id": "73c924d1-d190-479d-8f21-d30dda558d67",
   "metadata": {},
   "outputs": [
    {
     "data": {
      "image/png": "[encoded data removed]",
      "text/plain": [
       "<Figure size 432x288 with 1 Axes>"
      ]
     },
     "metadata": {},
     "output_type": "display_data"
    }
   ],
   "source": [
    "resi_plot = sns.scatterplot(x = resultA.fittedvalues, \n",
    "                            y = RESIA)"
   ]
  },
  {
   "cell_type": "markdown",
   "id": "5f2fb84c-0b24-4158-8747-28b8f22657cc",
   "metadata": {},
   "source": [
    "## Conclusion\n",
    "# dependientes, residuales normale "
   ]
  },
  {
   "cell_type": "markdown",
   "id": "83116aa0-6746-41fe-8da2-dee935986e47",
   "metadata": {},
   "source": [
    "# Pregunta 2:\n",
    "## Cual es el impacto de age, gender en salary \n",
    "### Salary = b0 + b1*age + b2*Gender"
   ]
  },
  {
   "cell_type": "code",
   "execution_count": 48,
   "id": "58b39421-be81-4d48-954c-7097af974d20",
   "metadata": {},
   "outputs": [
    {
     "name": "stderr",
     "output_type": "stream",
     "text": [
      "/srv/conda/envs/notebook/lib/python3.7/site-packages/scipy/stats/stats.py:1535: UserWarning: kurtosistest only valid for n>=20 ... continuing anyway, n=12\n",
      "  \"anyway, n=%i\" % int(n))\n"
     ]
    },
    {
     "data": {
      "text/html": [
       "<table class=\"simpletable\">\n",
       "<caption>OLS Regression Results</caption>\n",
       "<tr>\n",
       "  <th>Dep. Variable:</th>         <td>Salary</td>      <th>  R-squared:         </th> <td>   0.408</td>\n",
       "</tr>\n",
       "<tr>\n",
       "  <th>Model:</th>                   <td>OLS</td>       <th>  Adj. R-squared:    </th> <td>   0.276</td>\n",
       "</tr>\n",
       "<tr>\n",
       "  <th>Method:</th>             <td>Least Squares</td>  <th>  F-statistic:       </th> <td>   3.101</td>\n",
       "</tr>\n",
       "<tr>\n",
       "  <th>Date:</th>             <td>Tue, 30 Nov 2021</td> <th>  Prob (F-statistic):</th>  <td>0.0945</td> \n",
       "</tr>\n",
       "<tr>\n",
       "  <th>Time:</th>                 <td>14:22:13</td>     <th>  Log-Likelihood:    </th> <td> -91.242</td>\n",
       "</tr>\n",
       "<tr>\n",
       "  <th>No. Observations:</th>      <td>    12</td>      <th>  AIC:               </th> <td>   188.5</td>\n",
       "</tr>\n",
       "<tr>\n",
       "  <th>Df Residuals:</th>          <td>     9</td>      <th>  BIC:               </th> <td>   189.9</td>\n",
       "</tr>\n",
       "<tr>\n",
       "  <th>Df Model:</th>              <td>     2</td>      <th>                     </th>     <td> </td>   \n",
       "</tr>\n",
       "<tr>\n",
       "  <th>Covariance Type:</th>      <td>nonrobust</td>    <th>                     </th>     <td> </td>   \n",
       "</tr>\n",
       "</table>\n",
       "<table class=\"simpletable\">\n",
       "<tr>\n",
       "         <td></td>           <th>coef</th>     <th>std err</th>      <th>t</th>      <th>P>|t|</th>  <th>[0.025</th>    <th>0.975]</th>  \n",
       "</tr>\n",
       "<tr>\n",
       "  <th>Intercept</th>      <td>  749.8157</td> <td> 1023.148</td> <td>    0.733</td> <td> 0.482</td> <td>-1564.706</td> <td> 3064.337</td>\n",
       "</tr>\n",
       "<tr>\n",
       "  <th>Gender[T.Male]</th> <td>  306.7169</td> <td>  474.438</td> <td>    0.646</td> <td> 0.534</td> <td> -766.535</td> <td> 1379.969</td>\n",
       "</tr>\n",
       "<tr>\n",
       "  <th>Age</th>            <td>   34.2211</td> <td>   29.331</td> <td>    1.167</td> <td> 0.273</td> <td>  -32.130</td> <td>  100.573</td>\n",
       "</tr>\n",
       "</table>\n",
       "<table class=\"simpletable\">\n",
       "<tr>\n",
       "  <th>Omnibus:</th>       <td> 1.671</td> <th>  Durbin-Watson:     </th> <td>   1.363</td>\n",
       "</tr>\n",
       "<tr>\n",
       "  <th>Prob(Omnibus):</th> <td> 0.434</td> <th>  Jarque-Bera (JB):  </th> <td>   1.061</td>\n",
       "</tr>\n",
       "<tr>\n",
       "  <th>Skew:</th>          <td> 0.691</td> <th>  Prob(JB):          </th> <td>   0.588</td>\n",
       "</tr>\n",
       "<tr>\n",
       "  <th>Kurtosis:</th>      <td> 2.541</td> <th>  Cond. No.          </th> <td>    269.</td>\n",
       "</tr>\n",
       "</table><br/><br/>Notes:<br/>[1] Standard Errors assume that the covariance matrix of the errors is correctly specified."
      ],
      "text/plain": [
       "<class 'statsmodels.iolib.summary.Summary'>\n",
       "\"\"\"\n",
       "                            OLS Regression Results                            \n",
       "==============================================================================\n",
       "Dep. Variable:                 Salary   R-squared:                       0.408\n",
       "Model:                            OLS   Adj. R-squared:                  0.276\n",
       "Method:                 Least Squares   F-statistic:                     3.101\n",
       "Date:                Tue, 30 Nov 2021   Prob (F-statistic):             0.0945\n",
       "Time:                        14:22:13   Log-Likelihood:                -91.242\n",
       "No. Observations:                  12   AIC:                             188.5\n",
       "Df Residuals:                       9   BIC:                             189.9\n",
       "Df Model:                           2                                         \n",
       "Covariance Type:            nonrobust                                         \n",
       "==================================================================================\n",
       "                     coef    std err          t      P>|t|      [0.025      0.975]\n",
       "----------------------------------------------------------------------------------\n",
       "Intercept        749.8157   1023.148      0.733      0.482   -1564.706    3064.337\n",
       "Gender[T.Male]   306.7169    474.438      0.646      0.534    -766.535    1379.969\n",
       "Age               34.2211     29.331      1.167      0.273     -32.130     100.573\n",
       "==============================================================================\n",
       "Omnibus:                        1.671   Durbin-Watson:                   1.363\n",
       "Prob(Omnibus):                  0.434   Jarque-Bera (JB):                1.061\n",
       "Skew:                           0.691   Prob(JB):                        0.588\n",
       "Kurtosis:                       2.541   Cond. No.                         269.\n",
       "==============================================================================\n",
       "\n",
       "Notes:\n",
       "[1] Standard Errors assume that the covariance matrix of the errors is correctly specified.\n",
       "\"\"\""
      ]
     },
     "execution_count": 48,
     "metadata": {},
     "output_type": "execute_result"
    }
   ],
   "source": [
    "modelB = sm.OLS.from_formula('Salary~Age + Gender', data = df )\n",
    "resultB = modelB.fit()\n",
    "resultB.summary()"
   ]
  },
  {
   "cell_type": "markdown",
   "id": "4c0fbfb6-e391-43af-9a07-7c7718fa5cd3",
   "metadata": {},
   "source": [
    "# Observaciones:\n",
    "* Variable dependiente: Salary\n",
    "* Variable independiente: Age , Gender\n",
    "* R-Square : 0.408; por lo tanto,modelo no es eficiente, no es confiable\n",
    "\n",
    "* Df model: 2\n",
    "* Intercept > 0.05; no es significativo\n",
    "\n",
    "`Salary = 749.8157 + 34.2211*Age + 306.7169*Gender_Male\n",
    "\n",
    "* P> T ; mayor a 0.05 no es significativo \n",
    "\n",
    "### Case Study:\n",
    "Df Model = 2 \n",
    "\n",
    "#### Caso 1:\n",
    "* Age = 33\n",
    "* Male = True "
   ]
  },
  {
   "cell_type": "code",
   "execution_count": 43,
   "id": "9fc160de-d071-42c4-acab-321329926c9e",
   "metadata": {},
   "outputs": [
    {
     "name": "stdout",
     "output_type": "stream",
     "text": [
      "Salary de una perosna con Age 33, Male \t: 2185.8289\n"
     ]
    }
   ],
   "source": [
    "print('Salary de una persona con Age 33, Male \\t:', \n",
    "      749.8157 + 34.2211*33 + 306.7169*1)"
   ]
  },
  {
   "cell_type": "markdown",
   "id": "6587a708-bf0f-48a4-8b39-6acc585a19c9",
   "metadata": {},
   "source": [
    "#### Caso 2:\n",
    "* Age = 33\n",
    "* Male = False "
   ]
  },
  {
   "cell_type": "code",
   "execution_count": 45,
   "id": "dcb55992-4c0a-4647-b219-cf90d6fb4aac",
   "metadata": {},
   "outputs": [
    {
     "name": "stdout",
     "output_type": "stream",
     "text": [
      "Salary de una persona con Age 33, Female \t: 1879.112\n"
     ]
    },
    {
     "data": {
      "text/html": [
       "<div>\n",
       "<style scoped>\n",
       "    .dataframe tbody tr th:only-of-type {\n",
       "        vertical-align: middle;\n",
       "    }\n",
       "\n",
       "    .dataframe tbody tr th {\n",
       "        vertical-align: top;\n",
       "    }\n",
       "\n",
       "    .dataframe thead th {\n",
       "        text-align: right;\n",
       "    }\n",
       "</style>\n",
       "<table border=\"1\" class=\"dataframe\">\n",
       "  <thead>\n",
       "    <tr style=\"text-align: right;\">\n",
       "      <th></th>\n",
       "      <th>Gender</th>\n",
       "      <th>Salary</th>\n",
       "      <th>Age</th>\n",
       "      <th>Place</th>\n",
       "      <th>Weight</th>\n",
       "      <th>Company</th>\n",
       "      <th>Academic_degree</th>\n",
       "    </tr>\n",
       "  </thead>\n",
       "  <tbody>\n",
       "    <tr>\n",
       "      <th>0</th>\n",
       "      <td>Female</td>\n",
       "      <td>1500</td>\n",
       "      <td>33</td>\n",
       "      <td>Chicago</td>\n",
       "      <td>80.0</td>\n",
       "      <td>BMW</td>\n",
       "      <td>Bachelor</td>\n",
       "    </tr>\n",
       "    <tr>\n",
       "      <th>1</th>\n",
       "      <td>Female</td>\n",
       "      <td>1200</td>\n",
       "      <td>33</td>\n",
       "      <td>Chicago</td>\n",
       "      <td>82.5</td>\n",
       "      <td>Ford</td>\n",
       "      <td>No</td>\n",
       "    </tr>\n",
       "  </tbody>\n",
       "</table>\n",
       "</div>"
      ],
      "text/plain": [
       "   Gender  Salary  Age    Place  Weight Company Academic_degree\n",
       "0  Female    1500   33  Chicago    80.0     BMW        Bachelor\n",
       "1  Female    1200   33  Chicago    82.5    Ford              No"
      ]
     },
     "execution_count": 45,
     "metadata": {},
     "output_type": "execute_result"
    }
   ],
   "source": [
    "print('Salary de una persona con Age 33, Female \\t:', \n",
    "      749.8157 + 34.2211*33 + 306.7169*0)\n",
    "\n",
    "df.iloc[:2,:]"
   ]
  },
  {
   "cell_type": "code",
   "execution_count": 49,
   "id": "e73319f6-d82f-4f73-b838-919e91ba2983",
   "metadata": {},
   "outputs": [
    {
     "name": "stdout",
     "output_type": "stream",
     "text": [
      "Diferencia es :\t -379.1120000000001\n",
      "Diferencia es :\t -679.1120000000001\n"
     ]
    },
    {
     "data": {
      "text/plain": [
       "0    -379.112228\n",
       "1    -679.112228\n",
       "2     -20.050251\n",
       "3    -393.819095\n",
       "4    -242.227806\n",
       "5    -487.102178\n",
       "6     232.412060\n",
       "7      61.306533\n",
       "8     989.329983\n",
       "9     269.296482\n",
       "10    798.224456\n",
       "11   -149.145729\n",
       "dtype: float64"
      ]
     },
     "execution_count": 49,
     "metadata": {},
     "output_type": "execute_result"
    }
   ],
   "source": [
    "print('Diferencia es :\\t', 1500-1879.112)\n",
    "print('Diferencia es :\\t', 1200-1879.112)\n",
    "\n",
    "resultB.resid"
   ]
  },
  {
   "cell_type": "markdown",
   "id": "f995c009-e2cd-4f97-9b1c-d41e11520705",
   "metadata": {},
   "source": [
    "# Pregunta 3:\n",
    "## Cual es el impacto de age, gender, academic_degree en salary \n",
    "### Salary = b0 + b1*age + b2*Gender + b3*academic_degree"
   ]
  },
  {
   "cell_type": "code",
   "execution_count": 50,
   "id": "fa0d7a74-6689-461f-bc82-5f88749372a6",
   "metadata": {},
   "outputs": [
    {
     "name": "stderr",
     "output_type": "stream",
     "text": [
      "/srv/conda/envs/notebook/lib/python3.7/site-packages/scipy/stats/stats.py:1535: UserWarning: kurtosistest only valid for n>=20 ... continuing anyway, n=12\n",
      "  \"anyway, n=%i\" % int(n))\n"
     ]
    },
    {
     "data": {
      "text/html": [
       "<table class=\"simpletable\">\n",
       "<caption>OLS Regression Results</caption>\n",
       "<tr>\n",
       "  <th>Dep. Variable:</th>         <td>Salary</td>      <th>  R-squared:         </th> <td>   0.483</td>\n",
       "</tr>\n",
       "<tr>\n",
       "  <th>Model:</th>                   <td>OLS</td>       <th>  Adj. R-squared:    </th> <td>   0.188</td>\n",
       "</tr>\n",
       "<tr>\n",
       "  <th>Method:</th>             <td>Least Squares</td>  <th>  F-statistic:       </th> <td>   1.636</td>\n",
       "</tr>\n",
       "<tr>\n",
       "  <th>Date:</th>             <td>Tue, 30 Nov 2021</td> <th>  Prob (F-statistic):</th>  <td> 0.267</td> \n",
       "</tr>\n",
       "<tr>\n",
       "  <th>Time:</th>                 <td>14:24:14</td>     <th>  Log-Likelihood:    </th> <td> -90.426</td>\n",
       "</tr>\n",
       "<tr>\n",
       "  <th>No. Observations:</th>      <td>    12</td>      <th>  AIC:               </th> <td>   190.9</td>\n",
       "</tr>\n",
       "<tr>\n",
       "  <th>Df Residuals:</th>          <td>     7</td>      <th>  BIC:               </th> <td>   193.3</td>\n",
       "</tr>\n",
       "<tr>\n",
       "  <th>Df Model:</th>              <td>     4</td>      <th>                     </th>     <td> </td>   \n",
       "</tr>\n",
       "<tr>\n",
       "  <th>Covariance Type:</th>      <td>nonrobust</td>    <th>                     </th>     <td> </td>   \n",
       "</tr>\n",
       "</table>\n",
       "<table class=\"simpletable\">\n",
       "<tr>\n",
       "              <td></td>                 <th>coef</th>     <th>std err</th>      <th>t</th>      <th>P>|t|</th>  <th>[0.025</th>    <th>0.975]</th>  \n",
       "</tr>\n",
       "<tr>\n",
       "  <th>Intercept</th>                 <td>  815.5485</td> <td> 1086.544</td> <td>    0.751</td> <td> 0.477</td> <td>-1753.721</td> <td> 3384.818</td>\n",
       "</tr>\n",
       "<tr>\n",
       "  <th>Gender[T.Male]</th>            <td>  336.1028</td> <td>  521.798</td> <td>    0.644</td> <td> 0.540</td> <td> -897.752</td> <td> 1569.958</td>\n",
       "</tr>\n",
       "<tr>\n",
       "  <th>Academic_degree[T.Master]</th> <td> -373.1962</td> <td>  404.490</td> <td>   -0.923</td> <td> 0.387</td> <td>-1329.664</td> <td>  583.271</td>\n",
       "</tr>\n",
       "<tr>\n",
       "  <th>Academic_degree[T.No]</th>     <td>  -43.8495</td> <td>  470.054</td> <td>   -0.093</td> <td> 0.928</td> <td>-1155.350</td> <td> 1067.651</td>\n",
       "</tr>\n",
       "<tr>\n",
       "  <th>Age</th>                       <td>   36.3765</td> <td>   31.992</td> <td>    1.137</td> <td> 0.293</td> <td>  -39.272</td> <td>  112.025</td>\n",
       "</tr>\n",
       "</table>\n",
       "<table class=\"simpletable\">\n",
       "<tr>\n",
       "  <th>Omnibus:</th>       <td> 0.521</td> <th>  Durbin-Watson:     </th> <td>   0.971</td>\n",
       "</tr>\n",
       "<tr>\n",
       "  <th>Prob(Omnibus):</th> <td> 0.771</td> <th>  Jarque-Bera (JB):  </th> <td>   0.427</td>\n",
       "</tr>\n",
       "<tr>\n",
       "  <th>Skew:</th>          <td> 0.379</td> <th>  Prob(JB):          </th> <td>   0.808</td>\n",
       "</tr>\n",
       "<tr>\n",
       "  <th>Kurtosis:</th>      <td> 2.472</td> <th>  Cond. No.          </th> <td>    271.</td>\n",
       "</tr>\n",
       "</table><br/><br/>Notes:<br/>[1] Standard Errors assume that the covariance matrix of the errors is correctly specified."
      ],
      "text/plain": [
       "<class 'statsmodels.iolib.summary.Summary'>\n",
       "\"\"\"\n",
       "                            OLS Regression Results                            \n",
       "==============================================================================\n",
       "Dep. Variable:                 Salary   R-squared:                       0.483\n",
       "Model:                            OLS   Adj. R-squared:                  0.188\n",
       "Method:                 Least Squares   F-statistic:                     1.636\n",
       "Date:                Tue, 30 Nov 2021   Prob (F-statistic):              0.267\n",
       "Time:                        14:24:14   Log-Likelihood:                -90.426\n",
       "No. Observations:                  12   AIC:                             190.9\n",
       "Df Residuals:                       7   BIC:                             193.3\n",
       "Df Model:                           4                                         \n",
       "Covariance Type:            nonrobust                                         \n",
       "=============================================================================================\n",
       "                                coef    std err          t      P>|t|      [0.025      0.975]\n",
       "---------------------------------------------------------------------------------------------\n",
       "Intercept                   815.5485   1086.544      0.751      0.477   -1753.721    3384.818\n",
       "Gender[T.Male]              336.1028    521.798      0.644      0.540    -897.752    1569.958\n",
       "Academic_degree[T.Master]  -373.1962    404.490     -0.923      0.387   -1329.664     583.271\n",
       "Academic_degree[T.No]       -43.8495    470.054     -0.093      0.928   -1155.350    1067.651\n",
       "Age                          36.3765     31.992      1.137      0.293     -39.272     112.025\n",
       "==============================================================================\n",
       "Omnibus:                        0.521   Durbin-Watson:                   0.971\n",
       "Prob(Omnibus):                  0.771   Jarque-Bera (JB):                0.427\n",
       "Skew:                           0.379   Prob(JB):                        0.808\n",
       "Kurtosis:                       2.472   Cond. No.                         271.\n",
       "==============================================================================\n",
       "\n",
       "Notes:\n",
       "[1] Standard Errors assume that the covariance matrix of the errors is correctly specified.\n",
       "\"\"\""
      ]
     },
     "execution_count": 50,
     "metadata": {},
     "output_type": "execute_result"
    }
   ],
   "source": [
    "modelC = sm.OLS.from_formula('Salary~Age + Gender + Academic_degree', data = df )\n",
    "resultC = modelC.fit()\n",
    "resultC.summary()"
   ]
  },
  {
   "cell_type": "markdown",
   "id": "4cbd49ca-6012-4e33-8551-a26101ce9f82",
   "metadata": {},
   "source": [
    "# Observaciones:\n",
    "* Variable dependiente: Salary\n",
    "* Variable independiente: Age , Gender, Academic_Degree\n",
    "* R-Square : 0.483; por lo tanto,modelo no es eficiente, no es confiable\n",
    "\n",
    "* Df model: 4\n",
    "* Intercept > 0.05; no es significativo\n",
    "\n",
    "`Salary = 815.5485 + 36.3765*Age + 336.1028*Gender_Male -373.1962*AcademicDegree_Master - 43.8495*AcademicDegree_No\n",
    "\n",
    "* P> T ; mayor a 0.05 no es significativo \n",
    "\n",
    "### Case Study:\n",
    "Df Model = 2 \n",
    "\n",
    "#### Caso 1:\n",
    "* Age = 48\n",
    "* Male = True \n",
    "* Master Academic Degree = True \n",
    "* No Academic Degree = False"
   ]
  },
  {
   "cell_type": "code",
   "execution_count": 57,
   "id": "85ddd088-11bc-4f51-95a9-2f2b8855fdd9",
   "metadata": {},
   "outputs": [
    {
     "name": "stdout",
     "output_type": "stream",
     "text": [
      "Salary de una persona con Age 33, Male, Con Master Academic Degree \t: 2524.5271000000002\n"
     ]
    },
    {
     "data": {
      "text/plain": [
       "Gender                 Male\n",
       "Salary                 2550\n",
       "Age                      48\n",
       "Place              New York\n",
       "Weight                   64\n",
       "Company                  GM\n",
       "Academic_degree      Master\n",
       "Name: 11, dtype: object"
      ]
     },
     "execution_count": 57,
     "metadata": {},
     "output_type": "execute_result"
    }
   ],
   "source": [
    "print('Salary de una persona con Age 33, Male, Con Master Academic Degree \\t:', \n",
    "      815.5485 + 36.3765*48 + 336.1028*1 -373.1962*1 - 43.8495*0)\n",
    "df.iloc[-1,:]"
   ]
  },
  {
   "cell_type": "markdown",
   "id": "a387b9c6-0001-4941-a137-ab7e49cb91cf",
   "metadata": {},
   "source": [
    "#### Caso 2:\n",
    "* Age = 33\n",
    "* Male = False \n",
    "* Master Academic Degree = False \n",
    "* No Academic Degree = True"
   ]
  },
  {
   "cell_type": "code",
   "execution_count": 55,
   "id": "9396d3c5-dc8b-4122-b785-9f1c027eea19",
   "metadata": {},
   "outputs": [
    {
     "name": "stdout",
     "output_type": "stream",
     "text": [
      "Salary de una persona con Age 33, Female con Ninguna Master Degree \t: 1972.1235\n"
     ]
    },
    {
     "data": {
      "text/html": [
       "<div>\n",
       "<style scoped>\n",
       "    .dataframe tbody tr th:only-of-type {\n",
       "        vertical-align: middle;\n",
       "    }\n",
       "\n",
       "    .dataframe tbody tr th {\n",
       "        vertical-align: top;\n",
       "    }\n",
       "\n",
       "    .dataframe thead th {\n",
       "        text-align: right;\n",
       "    }\n",
       "</style>\n",
       "<table border=\"1\" class=\"dataframe\">\n",
       "  <thead>\n",
       "    <tr style=\"text-align: right;\">\n",
       "      <th></th>\n",
       "      <th>Gender</th>\n",
       "      <th>Salary</th>\n",
       "      <th>Age</th>\n",
       "      <th>Place</th>\n",
       "      <th>Weight</th>\n",
       "      <th>Company</th>\n",
       "      <th>Academic_degree</th>\n",
       "    </tr>\n",
       "  </thead>\n",
       "  <tbody>\n",
       "    <tr>\n",
       "      <th>0</th>\n",
       "      <td>Female</td>\n",
       "      <td>1500</td>\n",
       "      <td>33</td>\n",
       "      <td>Chicago</td>\n",
       "      <td>80.0</td>\n",
       "      <td>BMW</td>\n",
       "      <td>Bachelor</td>\n",
       "    </tr>\n",
       "    <tr>\n",
       "      <th>1</th>\n",
       "      <td>Female</td>\n",
       "      <td>1200</td>\n",
       "      <td>33</td>\n",
       "      <td>Chicago</td>\n",
       "      <td>82.5</td>\n",
       "      <td>Ford</td>\n",
       "      <td>No</td>\n",
       "    </tr>\n",
       "  </tbody>\n",
       "</table>\n",
       "</div>"
      ],
      "text/plain": [
       "   Gender  Salary  Age    Place  Weight Company Academic_degree\n",
       "0  Female    1500   33  Chicago    80.0     BMW        Bachelor\n",
       "1  Female    1200   33  Chicago    82.5    Ford              No"
      ]
     },
     "execution_count": 55,
     "metadata": {},
     "output_type": "execute_result"
    }
   ],
   "source": [
    "print('Salary de una persona con Age 33, Female con Ninguna Master Degree \\t:', \n",
    "      815.5485 + 36.3765*33 + 336.1028*0 -373.1962*0 - 43.8495*1)\n",
    "df.iloc[:2,:]"
   ]
  },
  {
   "cell_type": "code",
   "execution_count": 58,
   "id": "e1c20450-663c-4831-983d-79d036472f98",
   "metadata": {},
   "outputs": [
    {
     "data": {
      "text/plain": [
       "0    -515.972096\n",
       "1    -772.122563\n",
       "2    -188.451404\n",
       "3    -206.267018\n",
       "4       2.729975\n",
       "5    -270.164184\n",
       "6      73.374548\n",
       "7    -152.357353\n",
       "8     856.780852\n",
       "9     448.227087\n",
       "10    698.748015\n",
       "11     25.474139\n",
       "dtype: float64"
      ]
     },
     "execution_count": 58,
     "metadata": {},
     "output_type": "execute_result"
    }
   ],
   "source": [
    "resultC.resid"
   ]
  },
  {
   "cell_type": "markdown",
   "id": "124c8b0f-6532-449c-afdb-917230a4d5ec",
   "metadata": {},
   "source": [
    "# Pregunta 4:\n",
    "## Cual es el impacto de gender, academic_degree en salary \n",
    "### Salary = b0 + b1*Gender + b1*academic_degree"
   ]
  },
  {
   "cell_type": "code",
   "execution_count": 63,
   "id": "d5fe5e0b-b246-4e4c-b69f-60abcfe1892e",
   "metadata": {},
   "outputs": [
    {
     "name": "stderr",
     "output_type": "stream",
     "text": [
      "/srv/conda/envs/notebook/lib/python3.7/site-packages/scipy/stats/stats.py:1535: UserWarning: kurtosistest only valid for n>=20 ... continuing anyway, n=12\n",
      "  \"anyway, n=%i\" % int(n))\n"
     ]
    },
    {
     "data": {
      "text/html": [
       "<table class=\"simpletable\">\n",
       "<caption>OLS Regression Results</caption>\n",
       "<tr>\n",
       "  <th>Dep. Variable:</th>         <td>Salary</td>      <th>  R-squared:         </th> <td>   0.388</td>\n",
       "</tr>\n",
       "<tr>\n",
       "  <th>Model:</th>                   <td>OLS</td>       <th>  Adj. R-squared:    </th> <td>   0.158</td>\n",
       "</tr>\n",
       "<tr>\n",
       "  <th>Method:</th>             <td>Least Squares</td>  <th>  F-statistic:       </th> <td>   1.689</td>\n",
       "</tr>\n",
       "<tr>\n",
       "  <th>Date:</th>             <td>Tue, 30 Nov 2021</td> <th>  Prob (F-statistic):</th>  <td> 0.246</td> \n",
       "</tr>\n",
       "<tr>\n",
       "  <th>Time:</th>                 <td>14:41:40</td>     <th>  Log-Likelihood:    </th> <td> -91.443</td>\n",
       "</tr>\n",
       "<tr>\n",
       "  <th>No. Observations:</th>      <td>    12</td>      <th>  AIC:               </th> <td>   190.9</td>\n",
       "</tr>\n",
       "<tr>\n",
       "  <th>Df Residuals:</th>          <td>     8</td>      <th>  BIC:               </th> <td>   192.8</td>\n",
       "</tr>\n",
       "<tr>\n",
       "  <th>Df Model:</th>              <td>     3</td>      <th>                     </th>     <td> </td>   \n",
       "</tr>\n",
       "<tr>\n",
       "  <th>Covariance Type:</th>      <td>nonrobust</td>    <th>                     </th>     <td> </td>   \n",
       "</tr>\n",
       "</table>\n",
       "<table class=\"simpletable\">\n",
       "<tr>\n",
       "              <td></td>                 <th>coef</th>     <th>std err</th>      <th>t</th>      <th>P>|t|</th>  <th>[0.025</th>    <th>0.975]</th>  \n",
       "</tr>\n",
       "<tr>\n",
       "  <th>Intercept</th>                 <td> 1987.2093</td> <td>  350.913</td> <td>    5.663</td> <td> 0.000</td> <td> 1178.002</td> <td> 2796.416</td>\n",
       "</tr>\n",
       "<tr>\n",
       "  <th>Gender[T.Male]</th>            <td>  775.5814</td> <td>  356.912</td> <td>    2.173</td> <td> 0.062</td> <td>  -47.459</td> <td> 1598.622</td>\n",
       "</tr>\n",
       "<tr>\n",
       "  <th>Academic_degree[T.Master]</th> <td> -302.5581</td> <td>  406.942</td> <td>   -0.743</td> <td> 0.478</td> <td>-1240.969</td> <td>  635.853</td>\n",
       "</tr>\n",
       "<tr>\n",
       "  <th>Academic_degree[T.No]</th>     <td>   80.9302</td> <td>  465.356</td> <td>    0.174</td> <td> 0.866</td> <td> -992.184</td> <td> 1154.044</td>\n",
       "</tr>\n",
       "</table>\n",
       "<table class=\"simpletable\">\n",
       "<tr>\n",
       "  <th>Omnibus:</th>       <td> 0.278</td> <th>  Durbin-Watson:     </th> <td>   0.448</td>\n",
       "</tr>\n",
       "<tr>\n",
       "  <th>Prob(Omnibus):</th> <td> 0.870</td> <th>  Jarque-Bera (JB):  </th> <td>   0.426</td>\n",
       "</tr>\n",
       "<tr>\n",
       "  <th>Skew:</th>          <td>-0.000</td> <th>  Prob(JB):          </th> <td>   0.808</td>\n",
       "</tr>\n",
       "<tr>\n",
       "  <th>Kurtosis:</th>      <td> 2.077</td> <th>  Cond. No.          </th> <td>    4.33</td>\n",
       "</tr>\n",
       "</table><br/><br/>Notes:<br/>[1] Standard Errors assume that the covariance matrix of the errors is correctly specified."
      ],
      "text/plain": [
       "<class 'statsmodels.iolib.summary.Summary'>\n",
       "\"\"\"\n",
       "                            OLS Regression Results                            \n",
       "==============================================================================\n",
       "Dep. Variable:                 Salary   R-squared:                       0.388\n",
       "Model:                            OLS   Adj. R-squared:                  0.158\n",
       "Method:                 Least Squares   F-statistic:                     1.689\n",
       "Date:                Tue, 30 Nov 2021   Prob (F-statistic):              0.246\n",
       "Time:                        14:41:40   Log-Likelihood:                -91.443\n",
       "No. Observations:                  12   AIC:                             190.9\n",
       "Df Residuals:                       8   BIC:                             192.8\n",
       "Df Model:                           3                                         \n",
       "Covariance Type:            nonrobust                                         \n",
       "=============================================================================================\n",
       "                                coef    std err          t      P>|t|      [0.025      0.975]\n",
       "---------------------------------------------------------------------------------------------\n",
       "Intercept                  1987.2093    350.913      5.663      0.000    1178.002    2796.416\n",
       "Gender[T.Male]              775.5814    356.912      2.173      0.062     -47.459    1598.622\n",
       "Academic_degree[T.Master]  -302.5581    406.942     -0.743      0.478   -1240.969     635.853\n",
       "Academic_degree[T.No]        80.9302    465.356      0.174      0.866    -992.184    1154.044\n",
       "==============================================================================\n",
       "Omnibus:                        0.278   Durbin-Watson:                   0.448\n",
       "Prob(Omnibus):                  0.870   Jarque-Bera (JB):                0.426\n",
       "Skew:                          -0.000   Prob(JB):                        0.808\n",
       "Kurtosis:                       2.077   Cond. No.                         4.33\n",
       "==============================================================================\n",
       "\n",
       "Notes:\n",
       "[1] Standard Errors assume that the covariance matrix of the errors is correctly specified.\n",
       "\"\"\""
      ]
     },
     "execution_count": 63,
     "metadata": {},
     "output_type": "execute_result"
    }
   ],
   "source": [
    "modelD = sm.OLS.from_formula('Salary ~ Gender + Academic_degree', data = df )\n",
    "resultD = modelD.fit()\n",
    "resultD.summary()"
   ]
  },
  {
   "cell_type": "markdown",
   "id": "b4067d5a-54b1-4cfe-975d-ba4ce0d45582",
   "metadata": {},
   "source": [
    "# Observaciones:\n",
    "* Variable dependiente: Salary\n",
    "* Variable independiente:  Gender, Academic_Degree\n",
    "* R-Square : 0.483; por lo tanto,modelo no es eficiente, no es confiable\n",
    "\n",
    "* Df model: 3\n",
    "* Intercept > 0.05; no es significativo\n",
    "\n",
    "`Salary = 1987.2093 + 775.5814*Gender_Male -302.5581*AcademicDegree_Master + 80.9302*AcademicDegree_No\n",
    "\n",
    "* P> T ; mayor a 0.05 no es significativo \n",
    "\n",
    "### Case Study:\n",
    "Df Model = 2 \n",
    "\n",
    "#### Caso 1:\n",
    "* Male = True \n",
    "* Master Academic Degree = True \n",
    "* No Academic Degree = False"
   ]
  },
  {
   "cell_type": "code",
   "execution_count": 68,
   "id": "3af33be4-2819-4387-adfb-c19672cb2c6c",
   "metadata": {},
   "outputs": [
    {
     "name": "stdout",
     "output_type": "stream",
     "text": [
      "Salary de una persona Male, Con Master Academic Degree \t: 2460.2326\n"
     ]
    },
    {
     "data": {
      "text/plain": [
       "Gender                 Male\n",
       "Salary                 2550\n",
       "Age                      48\n",
       "Place              New York\n",
       "Weight                   64\n",
       "Company                  GM\n",
       "Academic_degree      Master\n",
       "Name: 11, dtype: object"
      ]
     },
     "execution_count": 68,
     "metadata": {},
     "output_type": "execute_result"
    }
   ],
   "source": [
    "print('Salary de una persona Male, Con Master Academic Degree \\t:', \n",
    "      1987.2093 + 775.5814*1 -302.5581*1 + 80.9302*0)\n",
    "df.iloc[-1,:]"
   ]
  },
  {
   "cell_type": "markdown",
   "id": "05bdfbd2-ae6f-41f8-a236-55327d89b05d",
   "metadata": {},
   "source": [
    "#### Caso 2:\n",
    "* Age = 33\n",
    "* Male = False \n",
    "* Master Academic Degree = False \n",
    "* No Academic Degree = True"
   ]
  },
  {
   "cell_type": "code",
   "execution_count": 67,
   "id": "204d0954-7d3b-4938-bcb9-d66529b51475",
   "metadata": {},
   "outputs": [
    {
     "name": "stdout",
     "output_type": "stream",
     "text": [
      "Salary de una persona Female con Ninguna Master Degree \t: 2068.1394999999998\n"
     ]
    },
    {
     "data": {
      "text/html": [
       "<div>\n",
       "<style scoped>\n",
       "    .dataframe tbody tr th:only-of-type {\n",
       "        vertical-align: middle;\n",
       "    }\n",
       "\n",
       "    .dataframe tbody tr th {\n",
       "        vertical-align: top;\n",
       "    }\n",
       "\n",
       "    .dataframe thead th {\n",
       "        text-align: right;\n",
       "    }\n",
       "</style>\n",
       "<table border=\"1\" class=\"dataframe\">\n",
       "  <thead>\n",
       "    <tr style=\"text-align: right;\">\n",
       "      <th></th>\n",
       "      <th>Gender</th>\n",
       "      <th>Salary</th>\n",
       "      <th>Age</th>\n",
       "      <th>Place</th>\n",
       "      <th>Weight</th>\n",
       "      <th>Company</th>\n",
       "      <th>Academic_degree</th>\n",
       "    </tr>\n",
       "  </thead>\n",
       "  <tbody>\n",
       "    <tr>\n",
       "      <th>0</th>\n",
       "      <td>Female</td>\n",
       "      <td>1500</td>\n",
       "      <td>33</td>\n",
       "      <td>Chicago</td>\n",
       "      <td>80.0</td>\n",
       "      <td>BMW</td>\n",
       "      <td>Bachelor</td>\n",
       "    </tr>\n",
       "    <tr>\n",
       "      <th>1</th>\n",
       "      <td>Female</td>\n",
       "      <td>1200</td>\n",
       "      <td>33</td>\n",
       "      <td>Chicago</td>\n",
       "      <td>82.5</td>\n",
       "      <td>Ford</td>\n",
       "      <td>No</td>\n",
       "    </tr>\n",
       "  </tbody>\n",
       "</table>\n",
       "</div>"
      ],
      "text/plain": [
       "   Gender  Salary  Age    Place  Weight Company Academic_degree\n",
       "0  Female    1500   33  Chicago    80.0     BMW        Bachelor\n",
       "1  Female    1200   33  Chicago    82.5    Ford              No"
      ]
     },
     "execution_count": 67,
     "metadata": {},
     "output_type": "execute_result"
    }
   ],
   "source": [
    "print('Salary de una persona Female con Ninguna Master Degree \\t:', \n",
    "      1987.2093 + 775.5814*0 -302.5581*0 + 80.9302*1)\n",
    "df.iloc[:2,:]"
   ]
  },
  {
   "cell_type": "code",
   "execution_count": null,
   "id": "71f7bd4e-af11-4fe6-83d1-cb04c642064d",
   "metadata": {},
   "outputs": [],
   "source": []
  }
 ],
 "metadata": {
  "kernelspec": {
   "display_name": "Python 3 (ipykernel)",
   "language": "python",
   "name": "python3"
  },
  "language_info": {
   "codemirror_mode": {
    "name": "ipython",
    "version": 3
   },
   "file_extension": ".py",
   "mimetype": "text/x-python",
   "name": "python",
   "nbconvert_exporter": "python",
   "pygments_lexer": "ipython3",
   "version": "3.7.12"
  }
 },
 "nbformat": 4,
 "nbformat_minor": 5
}
