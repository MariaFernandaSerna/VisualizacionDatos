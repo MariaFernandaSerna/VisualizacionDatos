{
 "cells": [
  {
   "cell_type": "markdown",
   "id": "fe799c83-37c2-470d-8850-797c02842e10",
   "metadata": {},
   "source": [
    "# Kilotoneladas de gases de efecto invernadero por pais"
   ]
  },
  {
   "cell_type": "markdown",
   "id": "1667a60f-7763-455e-abae-6ca90857f347",
   "metadata": {},
   "source": [
    "A00827092 Maria Fernanda Serna"
   ]
  },
  {
   "cell_type": "markdown",
   "id": "4d3279a4-3616-4e25-b3c2-4bdee137b171",
   "metadata": {},
   "source": [
    "# Introduccion"
   ]
  },
  {
   "cell_type": "markdown",
   "id": "49dfa8e6-315e-4914-b1e7-14ddec7c4997",
   "metadata": {
    "tags": []
   },
   "source": [
    "##### La base de datos se recupero de The World Bank, la cual la recupero from Carbon Dioxide Information Analysis Center, Environmental Sciences Division, Oak Ridge National Laboratory, Tennessee, United States."
   ]
  },
  {
   "cell_type": "markdown",
   "id": "15d378ee-6590-4bb4-ac2c-90eb06d5d7c7",
   "metadata": {},
   "source": [
    "##### Descripcion de las variables"
   ]
  },
  {
   "cell_type": "code",
   "execution_count": 5,
   "id": "8b08181c-a06a-49a8-b39a-4ad527dfcba0",
   "metadata": {},
   "outputs": [
    {
     "name": "stdout",
     "output_type": "stream",
     "text": [
      "adult.csv                  census.csv     movies.csv\n",
      "airline_data.csv           coches.csv     nhanes_2015_2016.csv\n",
      "antropometria00.csv        cwurData.csv   pokemon.csv\n",
      "antropometria-dataset.csv  data.csv       sample_pivot.csv\n",
      "Book3.csv                  headbrain.csv  tips.csv\n",
      "Canada.xlsx                mic2.xlsx      weight-height.csv\n",
      "Cartwheeldata.csv          mic.xlsx\n"
     ]
    }
   ],
   "source": [
    "%ls datasets/"
   ]
  },
  {
   "cell_type": "code",
   "execution_count": null,
   "id": "94ae13b3-586e-45af-be2c-dbe9816ff473",
   "metadata": {},
   "outputs": [],
   "source": []
  }
 ],
 "metadata": {
  "kernelspec": {
   "display_name": "Python 3 (ipykernel)",
   "language": "python",
   "name": "python3"
  },
  "language_info": {
   "codemirror_mode": {
    "name": "ipython",
    "version": 3
   },
   "file_extension": ".py",
   "mimetype": "text/x-python",
   "name": "python",
   "nbconvert_exporter": "python",
   "pygments_lexer": "ipython3",
   "version": "3.7.10"
  }
 },
 "nbformat": 4,
 "nbformat_minor": 5
}
